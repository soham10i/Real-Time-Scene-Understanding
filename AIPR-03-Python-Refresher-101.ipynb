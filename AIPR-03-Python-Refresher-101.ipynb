{
 "cells": [
  {
   "cell_type": "markdown",
   "metadata": {},
   "source": [
    "# AIPR-03 - Python Refresher\n",
    "### (created by Prof. Dr.-Ing. Christian Bergler & Prof. Dr. Fabian Brunner)"
   ]
  },
  {
   "cell_type": "markdown",
   "metadata": {},
   "source": [
    "**Python Refresher** based on the following literature:\n",
    "\n",
    "- Matthes Eric, **\"Python crash course: A hands-on, project-based introduction to programming\"**, ISBN: 978-1-59327-603-4, © 2023 no starch press\n",
    "- Bernd Klein, **\"Einführung in Python 3\"**, ISBN: 978-3-446-45208-4, © 2018 Carl Hanser Verlag GmbH \\& Co. KG\n",
    "- Paul Barry, **\"Head First Python\"**, ISBN: 978-1-49205-129-9, © 2023 Publisher(s): O'Reilly Media, Inc.\n",
    "\n",
    "**Python Tutorial:** https://docs.python.org/3/tutorial/"
   ]
  },
  {
   "cell_type": "markdown",
   "metadata": {},
   "source": [
    "## Data types and variables\n",
    "\n",
    "### Variables\n",
    "\n",
    "**Definition of variables:**\n",
    "- Variables are references to objects\n",
    "- Objects have a data type\n",
    "- Definition or assignment is made with `\"=\"`\n",
    "\n",
    "**Variable names:**\n",
    "- Valid variable names must begin with a letter or underscore\n",
    "- Conventions for variable names:\n",
    "    - Lower case\n",
    "    - Underscore as separator\n",
    "    - CamelCase uncommon"
   ]
  },
  {
   "cell_type": "code",
   "execution_count": 1,
   "metadata": {},
   "outputs": [
    {
     "name": "stdout",
     "output_type": "stream",
     "text": [
      "<class 'int'>\n",
      "<class 'str'>\n"
     ]
    }
   ],
   "source": [
    "x = 123\n",
    "print(type(x))\n",
    "\n",
    "x = \"Data Analytics\"\n",
    "print(type(x))"
   ]
  },
  {
   "cell_type": "markdown",
   "metadata": {},
   "source": [
    "### Data types\n",
    "\n",
    "**Integer**\n",
    "- Can be as large or as small as desired\n",
    "- Integers must not begin with a `0`\n",
    "- Literals for binary numbers begin with `0b`.\n",
    "- Literals for hexadecimal numbers begin with `0x` or `0X`"
   ]
  },
  {
   "cell_type": "code",
   "execution_count": 2,
   "metadata": {},
   "outputs": [
    {
     "name": "stdout",
     "output_type": "stream",
     "text": [
      "152445532144638333434152804169092766048144254521477439053209064172759686756\n",
      "20\n",
      "0b100001\n",
      "266\n",
      "0x10\n"
     ]
    }
   ],
   "source": [
    "x = 12346883499273747234823482423324324234\n",
    "x = x * x\n",
    "print(x)\n",
    "\n",
    "x = 0b10100\n",
    "print(x)\n",
    "\n",
    "x = bin(33)\n",
    "print(x)\n",
    "\n",
    "x = 0x10A\n",
    "print(x)\n",
    "\n",
    "x = hex(16)\n",
    "print(x)"
   ]
  },
  {
   "cell_type": "markdown",
   "metadata": {},
   "source": [
    "**Floating point numbers**\n",
    "- Data type `float`\n",
    "- Storage as binary fraction leads to approximation errors\n",
    "- For exact decimal representation, the module `decimal` can be used if required"
   ]
  },
  {
   "cell_type": "code",
   "execution_count": 3,
   "metadata": {},
   "outputs": [
    {
     "name": "stdout",
     "output_type": "stream",
     "text": [
      "<class 'float'>\n",
      "0.30000000000000004\n"
     ]
    },
    {
     "data": {
      "text/plain": [
       "Decimal('0.3')"
      ]
     },
     "execution_count": 3,
     "metadata": {},
     "output_type": "execute_result"
    }
   ],
   "source": [
    "x = 0.12345\n",
    "print(type(x))\n",
    "\n",
    "x = 0.1+0.2\n",
    "print(x)\n",
    "\n",
    "from decimal import Decimal\n",
    "Decimal('0.1') + Decimal('0.2')"
   ]
  },
  {
   "cell_type": "markdown",
   "metadata": {},
   "source": [
    "**Boolean values**\n",
    "- Data type with the two values `\"True\"` and `\"False\"`\n",
    "- Corresponds to the values `1` and `0`, therefore it can be used for numerical calculations"
   ]
  },
  {
   "cell_type": "code",
   "execution_count": 4,
   "metadata": {},
   "outputs": [
    {
     "name": "stdout",
     "output_type": "stream",
     "text": [
      "<class 'bool'>\n",
      "4\n",
      "False\n",
      "False\n",
      "True\n",
      "True\n"
     ]
    }
   ],
   "source": [
    "x = True\n",
    "print(type(x))\n",
    "\n",
    "z = x * 4\n",
    "print(z)\n",
    "\n",
    "z = not(x)\n",
    "print(z)\n",
    "\n",
    "y = False\n",
    "\n",
    "z = x and y\n",
    "print(z)\n",
    "\n",
    "z = x or y\n",
    "print(z)\n",
    "\n",
    "z = x and not y\n",
    "print(z)"
   ]
  },
  {
   "cell_type": "markdown",
   "metadata": {},
   "source": [
    "**Complex Numbers**\n",
    "- Datatype `\"complex\"`\n",
    "- Imaginary Sign: `j`"
   ]
  },
  {
   "cell_type": "code",
   "execution_count": 5,
   "metadata": {},
   "outputs": [
    {
     "name": "stdout",
     "output_type": "stream",
     "text": [
      "<class 'complex'>\n",
      "(-5+12j)\n"
     ]
    }
   ],
   "source": [
    "z = 2 + 3j\n",
    "print(type(z))\n",
    "\n",
    "z = z * z\n",
    "print(z)"
   ]
  },
  {
   "cell_type": "markdown",
   "metadata": {},
   "source": [
    "**Static type declaration**\n",
    "\n",
    "- In many languages (`C, C++, Java`), a variable must be assigned a type when it is declared\n",
    "- The type can no longer be changed at runtime, only the value\n",
    "  \n",
    "**Dynamic type declaration**\n",
    "\n",
    "- In Python, the data type is automatically recognized and assigned by Python\n",
    "- Both the value and the type of a variable can be changed during runtime\n",
    "- This results in the variable pointing to a different object\n",
    "  \n",
    "**Determine data type**\n",
    "\n",
    "- The current type can be output with `type()`.\n",
    "- To check for a specific type, the function `isinstance()` can be used\n",
    " \n",
    "**Convert types**\n",
    "\n",
    "- `int()`\n",
    "- `float()`\n",
    "- `str()`\n",
    "- `hex()`\n",
    "- `oct()`"
   ]
  },
  {
   "cell_type": "markdown",
   "metadata": {},
   "source": [
    "**Arithmetic operations**"
   ]
  },
  {
   "cell_type": "markdown",
   "metadata": {},
   "source": [
    "| Operation   | Meaning              |\n",
    "| :-----------| :--------------------|\n",
    "| x+y         | Sum                  |\n",
    "| x-y         | Difference           |\n",
    "| x*y         | Product              |\n",
    "| x/y         | Division             |\n",
    "| x//y        | Integer Division     |\n",
    "| x%y         | Modulo Division      |\n",
    "| abs(x)      | Absolute Value       |\n",
    "| x**y        | Power                |"
   ]
  },
  {
   "cell_type": "markdown",
   "metadata": {},
   "source": [
    "**Bitwise operators**"
   ]
  },
  {
   "cell_type": "markdown",
   "metadata": {},
   "source": [
    "| Operation   | Meaning              |\n",
    "| :-----------| :--------------------|\n",
    "| &           | bitwise AND          |\n",
    "| &#124;      | bitwise OR           |\n",
    "| ~           | bitwise NOT          |\n",
    "| ^           | bitwise XOR          |\n",
    "| >>          | bitwise RIGHT SHIFT  |\n",
    "| <<          | bitwise LEFT SHIFT   |"
   ]
  },
  {
   "cell_type": "markdown",
   "metadata": {},
   "source": [
    "**Assignment operators**"
   ]
  },
  {
   "cell_type": "markdown",
   "metadata": {},
   "source": [
    "| Operation   | Meaning     | Equivalent |\n",
    "| :-----------| :-----------|:-----------|\n",
    "| =           | x=5         | x=5        |\n",
    "| +=          | x+=5        | x=x+5      |\n",
    "| -=          | x-=5        | x=x-5      |\n",
    "| *=          | x*=5        | x=x*5      |\n",
    "| /=          | x/=5        | x=x/5      |\n",
    "| %=          | x%=5        | x=x%5      |\n",
    "| //=         | x//=5       | x=x//5     |\n",
    "| **=         | x**=5       | x=x**5     |\n",
    "| &=          | x&=5        | x=x&5      |\n",
    "| &#124;=     | x&#124;=5   | x=x&#124;5 |\n",
    "| ^=          | x^=5        | x=x^5      |\n",
    "| >>=         | x>>=5       | x=x>>5     |\n",
    "| <<=         | x<<=5       | x=x<<5     |"
   ]
  },
  {
   "cell_type": "markdown",
   "metadata": {},
   "source": [
    "**Identity operators**"
   ]
  },
  {
   "cell_type": "markdown",
   "metadata": {},
   "source": [
    "| Operation   | Meaning                                                          | Equivalent    |\n",
    "| :-----------| :----------------------------------------------------------------|:--------------|\n",
    "| is          | True if the operands reference the same object                   | x is True     |\n",
    "| is not      | True if the operands do not reference the same object            | x is not True |"
   ]
  },
  {
   "cell_type": "markdown",
   "metadata": {},
   "source": [
    "## Sequential data types"
   ]
  },
  {
   "cell_type": "markdown",
   "metadata": {},
   "source": [
    "### String\n",
    "- For strings there is the data type `String`.\n",
    "- Definition of strings over several lines\n",
    "- Line breaks in strings"
   ]
  },
  {
   "cell_type": "code",
   "execution_count": 6,
   "metadata": {},
   "outputs": [
    {
     "name": "stdout",
     "output_type": "stream",
     "text": [
      "Data Analytics and Engineering\n",
      "is exciting\n",
      "<class 'str'>\n",
      "This string is across two lines\n",
      "This string has a line break in the middle of the sentence and that's a good thing!\n"
     ]
    }
   ],
   "source": [
    "string = \"Data Analytics and Engineering\"\n",
    "another_string = \"is exciting\"\n",
    "print(string)\n",
    "print(another_string)\n",
    "print(type(string))\n",
    "\n",
    "string_two_lines = \"This string is across \\\n",
    "two lines\"\n",
    "print(string_two_lines)\n",
    "\n",
    "string_line_break = \"This string has a line break in the middle of the sentence and that's a good thing!\"\n",
    "print(string_line_break)"
   ]
  },
  {
   "cell_type": "markdown",
   "metadata": {},
   "source": [
    "***Special string symbolism***"
   ]
  },
  {
   "cell_type": "markdown",
   "metadata": {},
   "source": [
    "| Sequence    | Description               |\n",
    "| :-----------| :-------------------------|\n",
    "| \\ \\         | Backslash                 |\n",
    "| \\'          | Apostroph                 |\n",
    "| \\\"          | Inverted commas           |\n",
    "| \\b          | Backspace                 |\n",
    "| \\NNAME      | Unicode-Symbol NAME       |\n",
    "| \\t          | Horizontal tab            |\n",
    "| \\n          | Line break                |\n",
    "| \\uXXXX      | 16-bit Unicode Symbol     |\n",
    "| \\uXXXXXXXX  | 32-bit Unicode Symbol     |\n",
    "| \\v          | Vertical tab              |\n",
    "| \\ooo        | ASCII-Symbol octoal       |\n",
    "| \\xhh        | ASCII-Symbol hexadecimal  |"
   ]
  },
  {
   "cell_type": "markdown",
   "metadata": {},
   "source": [
    "### Lists and tuples"
   ]
  },
  {
   "cell_type": "markdown",
   "metadata": {},
   "source": [
    "***Lists***\n",
    "- `List` are sequential arrangements of arbitrary data types\n",
    "- They are generated by square brackets"
   ]
  },
  {
   "cell_type": "code",
   "execution_count": 7,
   "metadata": {},
   "outputs": [
    {
     "name": "stdout",
     "output_type": "stream",
     "text": [
      "[1, 2, 3, 'data', 'analytics']\n",
      "<class 'list'>\n"
     ]
    }
   ],
   "source": [
    "x = [1,2,3,\"data\",\"analytics\"]\n",
    "print(x)\n",
    "print(type(x))"
   ]
  },
  {
   "cell_type": "markdown",
   "metadata": {},
   "source": [
    "***Tuple***\n",
    "- `Tuple` differ from lists only in the way they are bracketed\n",
    "- However, they can no longer be changed (immutable)"
   ]
  },
  {
   "cell_type": "code",
   "execution_count": 8,
   "metadata": {},
   "outputs": [
    {
     "name": "stdout",
     "output_type": "stream",
     "text": [
      "data\n"
     ]
    }
   ],
   "source": [
    "x = (1,2,3,\"data\",\"engineering\")\n",
    "print(x[3])\n",
    "\n",
    "#führt zu einer Exception\n",
    "#x[4] = \"science\""
   ]
  },
  {
   "cell_type": "markdown",
   "metadata": {},
   "source": [
    "### Indexing\n",
    "\n",
    "- Sequential types (`String, lists, tuples`) can be indexed with square brackets\n",
    "can be indexed with square brackets\n",
    "- Negative indices are supported for indexing from the end (`-1 = last element, -2 = penultimate element, -N = first element`)"
   ]
  },
  {
   "cell_type": "code",
   "execution_count": 9,
   "metadata": {},
   "outputs": [
    {
     "name": "stdout",
     "output_type": "stream",
     "text": [
      "E\n",
      "g\n",
      "1\n",
      "[4, 5]\n",
      "5\n"
     ]
    }
   ],
   "source": [
    "string = \"Data Engineering\"\n",
    "print(string[5])\n",
    "\n",
    "print(string[-1])\n",
    "\n",
    "list_tmp = [1,2,3,[4,5]]\n",
    "\n",
    "print(list_tmp[0])\n",
    "\n",
    "print(list_tmp[3])\n",
    "\n",
    "print(list_tmp[3][1])"
   ]
  },
  {
   "cell_type": "markdown",
   "metadata": {},
   "source": [
    "### Slicing (select sub-ranges)\n",
    "- You can select sub-ranges of a sequential data type\n",
    "- In the case of a string, you get a string again. In the case of a list, a list again\n",
    "- If you omit the start value, slicing starts at the beginning. If you omit the end value, everything is taken up to the end"
   ]
  },
  {
   "cell_type": "code",
   "execution_count": 10,
   "metadata": {},
   "outputs": [
    {
     "name": "stdout",
     "output_type": "stream",
     "text": [
      "Data\n",
      "ti\n",
      "Analytics\n",
      "ata \n"
     ]
    }
   ],
   "source": [
    "string = \"Data Analytics\"\n",
    "print(string[0:4])\n",
    "\n",
    "print(string[-4:-2])\n",
    "\n",
    "print(string[5:])\n",
    "\n",
    "print(string[1:5])"
   ]
  },
  {
   "cell_type": "markdown",
   "metadata": {},
   "source": [
    "- The slicing operator also works with three arguments. The third argument (increment) then specifies how many arguments are to be taken in each case"
   ]
  },
  {
   "cell_type": "code",
   "execution_count": 11,
   "metadata": {},
   "outputs": [
    {
     "name": "stdout",
     "output_type": "stream",
     "text": [
      "[3, 4, 5]\n",
      "[1, 3, 5, 7]\n",
      "[2, 4, 6, 8]\n"
     ]
    }
   ],
   "source": [
    "string = [1,2,3,4,5,6,7,8,9]\n",
    "print(string[2:5])\n",
    "print(string[0:8:2])\n",
    "print(string[1:8:2])"
   ]
  },
  {
   "cell_type": "markdown",
   "metadata": {},
   "source": [
    "- It is also possible to use a negative value for the increment"
   ]
  },
  {
   "cell_type": "code",
   "execution_count": 12,
   "metadata": {},
   "outputs": [
    {
     "name": "stdout",
     "output_type": "stream",
     "text": [
      "[6, 5, 4, 3, 2]\n",
      "[9, 8, 7, 6, 5, 4, 3, 2, 1]\n"
     ]
    }
   ],
   "source": [
    "string = [1,2,3,4,5,6,7,8,9]\n",
    "print(string[5:0:-1])\n",
    "print(string[::-1])"
   ]
  },
  {
   "cell_type": "markdown",
   "metadata": {},
   "source": [
    "### Length function\n",
    "- The number of elements of a sequential data type can be determined with the length function (`len`)"
   ]
  },
  {
   "cell_type": "code",
   "execution_count": 13,
   "metadata": {},
   "outputs": [
    {
     "name": "stdout",
     "output_type": "stream",
     "text": [
      "20\n"
     ]
    }
   ],
   "source": [
    "string = \"I am a smart student\"\n",
    "print(len(string))"
   ]
  },
  {
   "cell_type": "markdown",
   "metadata": {},
   "source": [
    "### Membership operations\n",
    "- Check whether an element/value is in a `list, str, tuple, set`\n",
    "\n",
    "| Operation    | Meaning                                                                  |\n",
    "| :------------| :------------------------------------------------------------------------|\n",
    "| in           | True if a value/variable is part of a sequence                           |\n",
    "| not in       | True if a value/variable is not part of a sequence                       |"
   ]
  },
  {
   "cell_type": "code",
   "execution_count": 14,
   "metadata": {},
   "outputs": [
    {
     "name": "stdout",
     "output_type": "stream",
     "text": [
      "True\n",
      "True\n"
     ]
    }
   ],
   "source": [
    "string = \"Christian\"\n",
    "result = \"a\" in string\n",
    "print(result)\n",
    "\n",
    "list_tmp = [1,2,3,4,5]\n",
    "result = 5 in list_tmp\n",
    "print(result)"
   ]
  },
  {
   "cell_type": "markdown",
   "metadata": {},
   "source": [
    "### String functions\n",
    "- `split()` - splits the string. By default, substrings consisting only of whitespaces, tabs and newlines are combined into a separator\n",
    "- `splitlines()` - splits a text with line delimiters (e.g. `\\n`) into a list of lines\n",
    "- Search for substrings:\n",
    "    - Operator `in`\n",
    "    - Method `find()`\n",
    "- `count(substring)` - counts how often the substring occurs in a string element.\n",
    "- `replace(str1, str2)` - returns a string in which all occurrences of `str1` have been replaced by `str2\n",
    "- `upper()` - outputs the string in capital letters\n",
    "- `strip(), s.lstrip(), s.rstrip()` - remove unwanted characters at the beginning and/or end of a string\n",
    "- `join(it)` - returns the concatenation of the elements of the iterable object `it` and inserts the string between each of them"
   ]
  },
  {
   "cell_type": "code",
   "execution_count": 15,
   "metadata": {},
   "outputs": [
    {
     "name": "stdout",
     "output_type": "stream",
     "text": [
      "['This', 'is', 'a', 'sentence', 'that', 'should', 'be', 'split', 'into', 'its', 'individual', 'words', 'due', 'to', 'its', 'length', 'and', 'obscurity!']\n",
      "True\n",
      "-1\n",
      "This is a line that should be split into its individual words due to its length and obscurity!\n",
      "THIS IS A SENTENCE THAT SHOULD BE SPLIT INTO ITS INDIVIDUAL WORDS DUE TO ITS LENGTH AND OBSCURITY!\n",
      "I- -d-o-n-'-t- -k-n-o-w-!\n",
      "What?\n",
      "            What?\n"
     ]
    }
   ],
   "source": [
    "string = \"This is a sentence that should be split into its individual words due to its length and obscurity!\"\n",
    "split = string.split()\n",
    "print(split)\n",
    "\n",
    "result = \"sentence\" in string\n",
    "print(result)\n",
    "\n",
    "start_index = string.find(\"man\")\n",
    "print(start_index)\n",
    "\n",
    "replace = string.replace(\"sentence\", \"line\")\n",
    "print(replace)\n",
    "\n",
    "upper = string.upper()\n",
    "print(upper)\n",
    "\n",
    "join = \"-\".join(\"I don't know!\")\n",
    "print(join)\n",
    "\n",
    "string = \"            What?\\n\\n  \"\n",
    "strip = string.strip()\n",
    "print(strip)\n",
    "right_strip = string.rstrip()\n",
    "print(right_strip)"
   ]
  },
  {
   "cell_type": "markdown",
   "metadata": {},
   "source": [
    "### List functions\n",
    "- `append(x)` - appends `x` to the end of the list\n",
    "- `pop(i)` - returns the `i`-th element from the list and removes it\n",
    "- `pop()` - returns the last element from the list and removes it\n",
    "- `extend(t)` - appends the iterable object `t` to the list\n",
    "- `remove(x)` - removes the first occurrence of the value `x` in the list"
   ]
  },
  {
   "cell_type": "code",
   "execution_count": 16,
   "metadata": {},
   "outputs": [
    {
     "name": "stdout",
     "output_type": "stream",
     "text": [
      "[1, 2, 4, 5]\n",
      "[1, 2, 4, 5, 6]\n",
      "[1, 2, 4, 5]\n",
      "[1, 2, 4, 5, 7, 8, 9]\n"
     ]
    }
   ],
   "source": [
    "s = [1,2,3,4,5]\n",
    "s.pop(2)\n",
    "print(s)\n",
    "\n",
    "s.append(6)\n",
    "print(s)\n",
    "\n",
    "s.pop(-1)\n",
    "print(s)\n",
    "\n",
    "s2 = [7,8,9]\n",
    "s.extend(s2)\n",
    "print(s)"
   ]
  },
  {
   "cell_type": "markdown",
   "metadata": {},
   "source": [
    "- In addition to `append`, there are other ways to append elements to a list. For example, you can append one or more elements with the `+` operator\n",
    "- Another option is to use the `+=` operator"
   ]
  },
  {
   "cell_type": "code",
   "execution_count": 17,
   "metadata": {},
   "outputs": [
    {
     "name": "stdout",
     "output_type": "stream",
     "text": [
      "[1, 2, 3, 4, 5, 6, 7, 8]\n",
      "[1, 2, 3, 4, 5, 6, 7, 8, 9, 10, 11]\n"
     ]
    }
   ],
   "source": [
    "x = [1,2,3]\n",
    "y = [4,5,6]\n",
    "z = x + y + [7,8]\n",
    "print(z)\n",
    "\n",
    "z += [9,10,11]\n",
    "print(z)"
   ]
  },
  {
   "cell_type": "markdown",
   "metadata": {},
   "source": [
    "- `index(x, i, j)` - checks whether the element `x` is contained in the list and returns the index (the position). If specified, the check is performed between the indices `i` and `j` (or from `i` to the end if `j` is not specified)"
   ]
  },
  {
   "cell_type": "code",
   "execution_count": 18,
   "metadata": {},
   "outputs": [
    {
     "name": "stdout",
     "output_type": "stream",
     "text": [
      "0\n",
      "3\n",
      "3\n",
      "1\n"
     ]
    }
   ],
   "source": [
    "farben = [\"red\", \"yellow\", \"green\", \"red\", \"red\", \"blue\"]\n",
    "element = farben.index(\"red\")\n",
    "print(element)\n",
    "\n",
    "element = farben.index(\"red\", 2)\n",
    "print(element)\n",
    "\n",
    "element = farben.index(\"red\", 3, 5)\n",
    "print(element)\n",
    "\n",
    "element = farben.index(\"yellow\")\n",
    "print(element)\n",
    "\n",
    "#Value that is not contained in the list leads to a value error"
   ]
  },
  {
   "cell_type": "markdown",
   "metadata": {},
   "source": [
    "**List comprehension**\n",
    "- The `list comprehension` is a simple method for generating lists\n",
    "- They are used to create lists in which each element `d` is created from an element of another list or iterator by applying various operations\n",
    "- Syntax: The list comprehension is framed by square brackets. The opening bracket is followed by an expression, which is followed by one or more `for`-expressions and possibly an `if`-condition"
   ]
  },
  {
   "cell_type": "code",
   "execution_count": 19,
   "metadata": {},
   "outputs": [
    {
     "name": "stdout",
     "output_type": "stream",
     "text": [
      "[1, 4, 9, 16, 25, 36, 49, 64, 81]\n",
      "[1, 4, 9, 16, 25, 36, 49, 64, 81]\n"
     ]
    }
   ],
   "source": [
    "squares = []\n",
    "for i in range(1, 10):\n",
    "    squares.append(i**2)\n",
    "print(squares)\n",
    "\n",
    "squares = [i**2 for i in range(1,10)]\n",
    "print(squares)"
   ]
  },
  {
   "cell_type": "markdown",
   "metadata": {},
   "source": [
    "## Dictonaries\n",
    "\n",
    "- `Dictionaries` are associative fields and consist of key-value pairs\n",
    "- A value object is assigned to each key object\n",
    "- The key-value pairs are not ordered\n",
    "- Dictionaries can be changed easily and can grow or shrink at will during runtime\n",
    "- Indexing works in the same way as for lists with square brackets"
   ]
  },
  {
   "cell_type": "code",
   "execution_count": 20,
   "metadata": {},
   "outputs": [
    {
     "name": "stdout",
     "output_type": "stream",
     "text": [
      "Deep Learning\n",
      "Data Analytics & Engineering\n",
      "Advanced Deep Learning\n"
     ]
    }
   ],
   "source": [
    "lectures = {\"Bergler\" : \"Deep Learning\", \"Brunner\" : \"Data Analytics & Engineering\", \"Levi\" : \"Mathematics\", \"Nierhoff\" : \"Robotics\"}\n",
    "\n",
    "print(lectures[\"Bergler\"])\n",
    "\n",
    "print(lectures[\"Brunner\"])\n",
    "\n",
    "lectures[\"Bergler\"] = \"Advanced Deep Learning\"\n",
    "\n",
    "print(lectures[\"Bergler\"])\n",
    "\n",
    "#key which is not contained in the Dictonary leads to a key error"
   ]
  },
  {
   "cell_type": "markdown",
   "metadata": {},
   "source": [
    "- Alternatively, the `get()` metode can be used"
   ]
  },
  {
   "cell_type": "code",
   "execution_count": 21,
   "metadata": {},
   "outputs": [
    {
     "name": "stdout",
     "output_type": "stream",
     "text": [
      "Mathematics\n",
      "Robotics\n"
     ]
    }
   ],
   "source": [
    "print(lectures.get(\"Levi\"))\n",
    "print(lectures.get(\"Nierhoff\"))"
   ]
  },
  {
   "cell_type": "markdown",
   "metadata": {},
   "source": [
    "- Only `immutables` may be used as keys `(int, float, string, tuple)`\n",
    "- The types for keys and values do not need to be standardised\n",
    "- If the keys consist of strings that fulfil the conventions for variable names, a dictionary can also be defined more simply"
   ]
  },
  {
   "cell_type": "code",
   "execution_count": 22,
   "metadata": {},
   "outputs": [
    {
     "name": "stdout",
     "output_type": "stream",
     "text": [
      "Amberg\n",
      "['Deep Learning', 'Advanced Machine Learning']\n",
      "{'Brunner': 1, 'Bergler': 2, 'Levi': 3}\n"
     ]
    }
   ],
   "source": [
    "geo = {(49.4403198, 11.8633445) : \"Amberg\", (49.674346, 12.148934) : \"Weiden\"}\n",
    "location = geo.get((49.4403198, 11.8633445))\n",
    "print(location)\n",
    "\n",
    "#the use of mutable objects, e.g. lists, as keys leads to a TypeError (values can have any type)\n",
    "\n",
    "diff_vals = {0 : \"Berlger\", 1 : 1.86, 2 : [\"Deep Learning\", \"Advanced Machine Learning\"]}\n",
    "print(diff_vals.get(2))\n",
    "\n",
    "key_only_strings = {\"Brunner\" : 1, \"Bergler\" : 2, \"Levi\" : 3}\n",
    "print(key_only_strings)"
   ]
  },
  {
   "cell_type": "markdown",
   "metadata": {},
   "source": [
    "- `Dictionaries` can also be nested.\n",
    "- The keyword `in` can be used to check whether a key is contained in the dictionary\n",
    "- The length of the dictionary can be output using `len()`"
   ]
  },
  {
   "cell_type": "code",
   "execution_count": 23,
   "metadata": {},
   "outputs": [
    {
     "name": "stdout",
     "output_type": "stream",
     "text": [
      "{'KI': {'Bergler': 'Deep Learning', 'Brunner': 'Data Analytics & Engineering'}, 'Media': {'Baumann': 'Photo Editing', 'Löhr': 'Media Production'}}\n",
      "Data Analytics & Engineering\n",
      "True\n",
      "False\n",
      "2\n"
     ]
    }
   ],
   "source": [
    "dict_lectures_ki = {\"Bergler\" : \"Deep Learning\", \"Brunner\" : \"Data Analytics & Engineering\"}\n",
    "dict_lectures_media = {\"Baumann\" : \"Photo Editing\", \"Löhr\" : \"Media Production\"}\n",
    "\n",
    "all_lectures = {\"KI\" : dict_lectures_ki, \"Media\" : dict_lectures_media}\n",
    "print(all_lectures)\n",
    "\n",
    "print(all_lectures[\"KI\"][\"Brunner\"])\n",
    "\n",
    "exist = \"Bergler\" in dict_lectures_ki\n",
    "print(exist)\n",
    "exist = \"Levi\" in dict_lectures_ki\n",
    "print(exist)\n",
    "\n",
    "print(len(dict_lectures_ki))"
   ]
  },
  {
   "cell_type": "markdown",
   "metadata": {},
   "source": [
    "### Dictonary functions\n",
    "- The assignment of a dictionary to a variable does not yet correspond to a copy. If `dict_lectures_ki_24` were a copy in the following example, the value of `dict_lectures_ki_23` should not have changed\n",
    "- `copy()` - Creation of a (flat) copy"
   ]
  },
  {
   "cell_type": "code",
   "execution_count": 24,
   "metadata": {},
   "outputs": [
    {
     "name": "stdout",
     "output_type": "stream",
     "text": [
      "{'Bergler': 'Deep Learning', 'Brunner': 'Data Analytics & Engineering'}\n",
      "{'Bergler': 'Deep Learning', 'Brunner': 'Data Analytics & Engineering'}\n",
      "{'Bergler': 'Deep Learning', 'Brunner': 'Data Analytics & Engineering', 'Levi': 'Machine Learning'}\n",
      "{'Bergler': 'Deep Learning', 'Brunner': 'Data Analytics & Engineering', 'Levi': 'Machine Learning'}\n",
      "\n",
      "\n",
      "{'Bergler': 'Deep Learning', 'Brunner': 'Data Analytics & Engineering'}\n",
      "{'Bergler': 'Deep Learning', 'Brunner': 'Data Analytics & Engineering'}\n",
      "{'Bergler': 'Deep Learning', 'Brunner': 'Data Analytics & Engineering'}\n",
      "{'Bergler': 'Deep Learning', 'Brunner': 'Data Analytics & Engineering', 'Levi': 'Machine Learning'}\n"
     ]
    }
   ],
   "source": [
    "dict_lectures_ki_23 = {\"Bergler\" : \"Deep Learning\", \"Brunner\" : \"Data Analytics & Engineering\"}\n",
    "dict_lectures_ki_24 = dict_lectures_ki_23\n",
    "print(dict_lectures_ki_23)\n",
    "print(dict_lectures_ki_24)\n",
    "dict_lectures_ki_24[\"Levi\"] = \"Machine Learning\"\n",
    "print(dict_lectures_ki_23)\n",
    "print(dict_lectures_ki_24)\n",
    "\n",
    "print()\n",
    "print()\n",
    "\n",
    "dict_lectures_ki_23 = {\"Bergler\" : \"Deep Learning\", \"Brunner\" : \"Data Analytics & Engineering\"}\n",
    "dict_lectures_ki_24 = dict_lectures_ki_23.copy()\n",
    "print(dict_lectures_ki_23)\n",
    "print(dict_lectures_ki_24)\n",
    "dict_lectures_ki_24[\"Levi\"] = \"Machine Learning\"\n",
    "print(dict_lectures_ki_23)\n",
    "print(dict_lectures_ki_24)"
   ]
  },
  {
   "cell_type": "markdown",
   "metadata": {},
   "source": [
    "- `fromkeys(S,v)` - returns a `dictionary` with values of the immutable sequential data type (e.g. `list`) as key and the optional value `v` as value, which is assigned to each key\n",
    "- `items()` - returns a set-like object of type `dict_item`, which corresponds to a `view` of the key-value pairs of the original dictonary\n",
    "- `pop(k,d)` - removes the key `k` together with its value from the `dictionary`. If `k` does not exist, the original `dictionary` is returned\n",
    "- `popitem()` - returns an arbitrary key-value pair, which is then removed from the `dictionary`\n",
    "- `setdefault(k,v)` - sets the value `v` for the respective key `k` if the key `k` is not yet contained in the `Dictonary`. If `k` is already contained in `D`, the `dictionary` is not changed\n",
    "- `update()` - adds another key to a `dictionary` and overwrites the values of existing keys if necessary\n",
    "- `zip()` - can be applied to any sequence of iterable objects, e.g. `string, lists, tuples, dictonaries`.  The return value is an `iterator` that returns `tuples`"
   ]
  },
  {
   "cell_type": "code",
   "execution_count": 25,
   "metadata": {},
   "outputs": [
    {
     "name": "stdout",
     "output_type": "stream",
     "text": [
      "{'Bergler': True, 'Levi': True, 'Brunner': True, 'Nierhoff': True, 'Winter': True}\n",
      "dict_items([('Bergler', True), ('Levi', True), ('Brunner', True), ('Nierhoff', True), ('Winter', True)])\n",
      "{'Bergler': True, 'Levi': True, 'Brunner': True, 'Nierhoff': True}\n",
      "('Nierhoff', True)\n",
      "{'Bergler': True, 'Levi': True, 'Brunner': True, 'Aßmuth': True}\n",
      "{'Bergler': True, 'Levi': True, 'Brunner': True, 'Aßmuth': True}\n",
      "{'Bergler': True, 'Levi': True, 'Brunner': True, 'Aßmuth': True, 'Schäfer': True, 'Pirkl': True}\n",
      "\n",
      "('Bergler', 'Deep Learning')\n",
      "('Levi', 'Machine Learning')\n",
      "('Brunner', 'Data Analytics & Engineering')\n",
      "('Nierhoff', 'Robotics')\n",
      "{'Bergler': 'Deep Learning', 'Levi': 'Machine Learning', 'Brunner': 'Data Analytics & Engineering', 'Nierhoff': 'Robotics'}\n",
      "[('Bergler', 'Deep Learning'), ('Levi', 'Machine Learning'), ('Brunner', 'Data Analytics & Engineering'), ('Nierhoff', 'Robotics')]\n"
     ]
    }
   ],
   "source": [
    "profs =  [\"Bergler\", \"Levi\", \"Brunner\", \"Nierhoff\", \"Winter\"] #also tuple possible\n",
    "dict_profs = dict.fromkeys(profs, True)\n",
    "print(dict_profs)\n",
    "\n",
    "print(dict_profs.items())\n",
    "\n",
    "dict_profs.pop(\"Winter\")\n",
    "print(dict_profs)\n",
    "\n",
    "item = dict_profs.popitem()\n",
    "print(item)\n",
    "\n",
    "dict_profs.setdefault(\"Aßmuth\", True)\n",
    "print(dict_profs)\n",
    "dict_profs.setdefault(\"Bergler\", True)\n",
    "print(dict_profs)\n",
    "\n",
    "dict_add_profs = {\"Schäfer\" : True, \"Pirkl\" : True}\n",
    "dict_profs.update(dict_add_profs)\n",
    "print(dict_profs)\n",
    "\n",
    "profs =  [\"Bergler\", \"Levi\", \"Brunner\", \"Nierhoff\"]\n",
    "lectures = [\"Deep Learning\", \"Machine Learning\", \"Data Analytics & Engineering\", \"Robotics\"]\n",
    "\n",
    "print()\n",
    "\n",
    "for prof_lecture in zip(profs, lectures):\n",
    "    print(prof_lecture)\n",
    "\n",
    "profs_lectures_dict = dict(zip(profs, lectures))\n",
    "print(profs_lectures_dict)\n",
    "\n",
    "profs_lectures_dict = list(zip(profs, lectures))\n",
    "print(profs_lectures_dict)"
   ]
  },
  {
   "cell_type": "markdown",
   "metadata": {},
   "source": [
    "## Set\n",
    "\n",
    "- A `set` contains an unordered collection of unique and unchangeable elements\n",
    "- Each element can only occur once\n",
    "- The definition is made in the usual mathematical notation\n",
    "- A `set` cannot be indexed"
   ]
  },
  {
   "cell_type": "code",
   "execution_count": 26,
   "metadata": {},
   "outputs": [
    {
     "name": "stdout",
     "output_type": "stream",
     "text": [
      "4\n",
      "True\n",
      "False\n"
     ]
    }
   ],
   "source": [
    "profs =  {\"Bergler\", \"Levi\", \"Brunner\", \"Nierhoff\"} #or also set(\"Bergler\", \"Levi\") possible\n",
    "type(profs)\n",
    "print(len(profs))\n",
    "prof_bergler = \"Bergler\" in profs\n",
    "print(prof_bergler)\n",
    "prof_levi = \"Nürnberg\" in profs\n",
    "print(prof_levi)\n",
    "#prof[0] - indexing is not supported"
   ]
  },
  {
   "cell_type": "markdown",
   "metadata": {},
   "source": [
    "- A `set` can be created using a list. Duplicate entries are removed\n",
    "- The values of a `set` are unchangeable, but it itself is not. New values can be inserted using the `add()` function, for example\n",
    "- The type `frozenset` is available for unchangeable `set` s  "
   ]
  },
  {
   "cell_type": "code",
   "execution_count": 27,
   "metadata": {},
   "outputs": [
    {
     "name": "stdout",
     "output_type": "stream",
     "text": [
      "{'Nierhoff', 'Brunner', 'Levi', 'Bergler'}\n",
      "{'Bergler', 'Brunner', 'Levi', 'Nierhoff', 'Schäfer'}\n"
     ]
    }
   ],
   "source": [
    "list_profs =  [\"Bergler\", \"Levi\", \"Brunner\", \"Nierhoff\", \"Bergler\"]\n",
    "set_profs = set(list_profs)\n",
    "print(set_profs)\n",
    "\n",
    "set_profs.add(\"Schäfer\")\n",
    "print(set_profs)\n",
    "\n",
    "set_profs_fix = frozenset(set_profs)\n",
    "#set_profs_fix.add(\"Schäfer\") - add operation does not work any longer"
   ]
  },
  {
   "cell_type": "markdown",
   "metadata": {},
   "source": [
    "### Set functions\n",
    "- `add(elem)` - adds the element `elem` to a set\n",
    "- `clear()` - removes all elements\n",
    "- `copy()` - creates a (flat) copy of a set\n",
    "- Union of two sets (`union`)\n",
    "- Intersection of two sets (`intersection`)\n",
    "- difference set (`difference`)\n",
    "- `remove(elem)` - removes the element `elem`. If it is not present, an error is output\n",
    "- `discard(elem)` - removes the element `elem` if it is present. Otherwise nothing happens\n",
    "- `issubset()` - checks whether one set is a subset of the other\n",
    "- `issuperset()` - checks whether one set is a superset of the other"
   ]
  },
  {
   "cell_type": "code",
   "execution_count": 28,
   "metadata": {},
   "outputs": [
    {
     "name": "stdout",
     "output_type": "stream",
     "text": [
      "{'Wiehl', 'Bergler', 'Brunner', 'Levi', 'Nierhoff', 'Pirkl', 'Schäfer'}\n",
      "set()\n",
      "{'Brunner', 'Levi', 'Nierhoff', 'Wiehl', 'Bergler', 'Pirkl', 'Schäfer'}\n"
     ]
    }
   ],
   "source": [
    "set_profs.add(\"Pirkl\")\n",
    "set_profs.add(\"Wiehl\")\n",
    "print(set_profs)\n",
    "\n",
    "set_profs_back_up = set_profs\n",
    "set_prof_back_up_copy = set_profs.copy()\n",
    "\n",
    "set_profs.clear()\n",
    "print(set_profs_back_up)\n",
    "print(set_prof_back_up_copy)"
   ]
  },
  {
   "cell_type": "code",
   "execution_count": 29,
   "metadata": {},
   "outputs": [
    {
     "name": "stdout",
     "output_type": "stream",
     "text": [
      "{'Huber', 'Wiehl', 'Bergler', 'Winter', 'Levi', 'Pirkl'}\n",
      "{'Bergler', 'Pirkl'}\n",
      "set()\n",
      "{'Winter', 'Huber', 'Wiehl', 'Levi'}\n",
      "{'Winter', 'Huber', 'Wiehl', 'Levi'}\n",
      "{'Huber', 'Levi', 'Wiehl', 'Bergler', 'Pirkl'}\n",
      "{'Huber', 'Levi', 'Wiehl', 'Bergler', 'Pirkl'}\n",
      "{'Levi', 'Wiehl', 'Bergler', 'Pirkl'}\n",
      "True\n",
      "False\n"
     ]
    }
   ],
   "source": [
    "set1 = {\"Pirkl\", \"Bergler\"}\n",
    "set2 = {\"Bergler\", \"Wiehl\", \"Levi\", \"Pirkl\", \"Winter\", \"Huber\"}\n",
    "\n",
    "union = set1.union(set2)\n",
    "print(union)\n",
    "\n",
    "intersect = set1.intersection(set2)\n",
    "print(intersect)\n",
    "\n",
    "difference = set1.difference(set2)\n",
    "print(difference)\n",
    "\n",
    "difference = set2.difference(set1)\n",
    "print(difference)\n",
    "\n",
    "difference = set2 - set1\n",
    "print(difference)\n",
    "\n",
    "set2.remove(\"Winter\")\n",
    "print(set2)\n",
    "\n",
    "set2.discard(\"Winter\") #remove of a non-existent element would return a KeyError\n",
    "print(set2)\n",
    "\n",
    "set2.discard(\"Huber\")\n",
    "print(set2)\n",
    "\n",
    "superset = set1.issubset(set2)\n",
    "print(superset)\n",
    "superset = set2.issubset(set1)\n",
    "print(superset)"
   ]
  },
  {
   "cell_type": "markdown",
   "metadata": {},
   "source": [
    "## Branching"
   ]
  },
  {
   "cell_type": "markdown",
   "metadata": {},
   "source": [
    "### Instruction blocks and indentations\n",
    "- In `Python`, programmes are structured into statement blocks using indentations (spaces or tabs)\n",
    "- Programmers are forced to write clear and unambiguous code with regard to block assignment\n",
    "- Mixing spaces and tabs should be avoided"
   ]
  },
  {
   "cell_type": "markdown",
   "metadata": {},
   "source": [
    "**`if-else` statement**\n",
    "- The statements `statement1` and `statement2` are only executed if the `condition` is fulfilled\n",
    "- The statement `statement3` is executed if the `condition` is not fulfilled\n",
    "- The statement `statement4` is executed after the `if-else` block has been processed"
   ]
  },
  {
   "cell_type": "code",
   "execution_count": 30,
   "metadata": {},
   "outputs": [
    {
     "name": "stdout",
     "output_type": "stream",
     "text": [
      "It is Prof. Levi\n"
     ]
    }
   ],
   "source": [
    "#if condition\n",
    "    #statement 1\n",
    "    #statement 2\n",
    "#else:\n",
    "    #statement 3\n",
    "#statement 4\n",
    "\n",
    "prof = \"Levi\"\n",
    "\n",
    "if prof == \"Levi\":\n",
    "    print(\"It is Prof. Levi\")\n",
    "else:\n",
    "    print(\"It is not Prof. Levi\")"
   ]
  },
  {
   "cell_type": "markdown",
   "metadata": {},
   "source": [
    "****Comparison-Operators****\n",
    "\n",
    "| Operation   | Meaning              | Example  | Result   |\n",
    "| :-----------| :--------------------|:---------|:---------|\n",
    "| ==          | Equality             | 42==42   | True     |\n",
    "| !=          | Inequality           | 42!=42   | False    |\n",
    "| <           | Smaller than         | 5<3      | False    |\n",
    "| <=          | Smaller equal        | 3<=4     | True     |\n",
    "| >           | Larger               | 4>2      | True     |\n",
    "| >=          | Larger equal         | 4>=4     | True     |\n",
    "\n",
    "The comparison operators also work for `Strings` and check the lexicographical order character by character"
   ]
  },
  {
   "cell_type": "code",
   "execution_count": 31,
   "metadata": {},
   "outputs": [
    {
     "name": "stdout",
     "output_type": "stream",
     "text": [
      "False\n"
     ]
    }
   ],
   "source": [
    "bergler = \"Bergler\"\n",
    "berglerchristian = \"BerglerChristian\"\n",
    "result = bergler > berglerchristian\n",
    "print(result)"
   ]
  },
  {
   "cell_type": "markdown",
   "metadata": {},
   "source": [
    "| Operation   | Meaning              |\n",
    "| :-----------| :--------------------|\n",
    "| and         | Logical \"and\"        |\n",
    "| or          | Logical \"or\"         |\n",
    "| not         | Negation             |\n",
    "| &#124;      | Bitwise \"or\"         |\n",
    "| &           | Bitwise \"and\"        |"
   ]
  },
  {
   "cell_type": "code",
   "execution_count": 32,
   "metadata": {},
   "outputs": [
    {
     "name": "stdout",
     "output_type": "stream",
     "text": [
      "True\n"
     ]
    }
   ],
   "source": [
    "x = [1,2,3]\n",
    "result = (2<5) or (x[1]>0)\n",
    "print(result)"
   ]
  },
  {
   "cell_type": "markdown",
   "metadata": {},
   "source": [
    "**Boolean values for objects**\n",
    "- Principle: everything that is not `False` is `True`\n",
    "- It must therefore still be determined what `False` is\n",
    "- Numerical zero values: `0, 0.0, 0.0+0.0j`\n",
    "- The boolean value `False`\n",
    "- Empty strings `String`\n",
    "- Empty `list`, `empty`, `tuple`\n",
    "- Empty `Dictionaries`\n",
    "- The special value `None`"
   ]
  },
  {
   "cell_type": "code",
   "execution_count": 33,
   "metadata": {},
   "outputs": [
    {
     "name": "stdout",
     "output_type": "stream",
     "text": [
      "Obviously True\n"
     ]
    }
   ],
   "source": [
    "string = \"Bergler\"\n",
    "if string:\n",
    "    print(\"Obviously True\")"
   ]
  },
  {
   "cell_type": "markdown",
   "metadata": {},
   "source": [
    "## Loops"
   ]
  },
  {
   "cell_type": "markdown",
   "metadata": {},
   "source": [
    "**while loop**\n",
    "- A `while` loop has the following form\n",
    "- `Statement1` and `Statement2` are executed until the condition is no longer fulfilled"
   ]
  },
  {
   "cell_type": "code",
   "execution_count": 34,
   "metadata": {},
   "outputs": [
    {
     "name": "stdout",
     "output_type": "stream",
     "text": [
      "0\n",
      "1\n",
      "2\n",
      "3\n"
     ]
    }
   ],
   "source": [
    "#while condition:\n",
    "    #statement 1\n",
    "    #statement 2\n",
    "#statement 3\n",
    "\n",
    "i = 0\n",
    "while i<4:\n",
    "    print(i)\n",
    "    i += 1"
   ]
  },
  {
   "cell_type": "markdown",
   "metadata": {},
   "source": [
    "**for-Loop**\n",
    "- In many programming languages, the loop header of a `for` loop contains a `start` statement, a `loop condition` and an `increment`\n",
    "- In `Python`, a `for` loop always iterates over a sequence"
   ]
  },
  {
   "cell_type": "code",
   "execution_count": 35,
   "metadata": {},
   "outputs": [
    {
     "name": "stdout",
     "output_type": "stream",
     "text": [
      "Bergler\n",
      "Levi\n",
      "Brunner\n",
      "Nierhoff\n",
      "Bergler\n"
     ]
    }
   ],
   "source": [
    "#for Variable in Sequence:\n",
    "    #statement 1\n",
    "    #statement 2\n",
    "#statement 3\n",
    "\n",
    "profs =  [\"Bergler\", \"Levi\", \"Brunner\", \"Nierhoff\", \"Bergler\"]\n",
    "for prof in profs:\n",
    "    print(prof)"
   ]
  },
  {
   "cell_type": "markdown",
   "metadata": {},
   "source": [
    "**`range`-Object**\n",
    "- With `range(start, stop, step)` you can create an iterable object that returns a sequence of integers from `start` (inclusive) to `stop` (exclusive)\n",
    "- `range(start, stop)` generates `start, start+1, ..., stop-1`\n",
    "- `range(stop)` generates `0,1, ..., stop-1`\n",
    "- The optional argument `step` specifies the increment\n",
    "- The `range` object does not generate all contained elements at once, but if required when iterating over them"
   ]
  },
  {
   "cell_type": "code",
   "execution_count": 36,
   "metadata": {},
   "outputs": [
    {
     "name": "stdout",
     "output_type": "stream",
     "text": [
      "<class 'range'>\n",
      "[0, 1, 2, 3, 4]\n",
      "0\n",
      "1\n",
      "2\n",
      "3\n",
      "4\n"
     ]
    }
   ],
   "source": [
    "x = range(5)\n",
    "print(type(x))\n",
    "tmp = list(x)\n",
    "print(tmp)\n",
    "for i in x:\n",
    "    print(i)"
   ]
  },
  {
   "cell_type": "markdown",
   "metadata": {},
   "source": [
    "**break and continue, else-part**\n",
    "- A loop can be exited prematurely using `break`\n",
    "- With `continue` the rest of an iteration is skipped and the next check of the condition is continued.\n",
    "- A loop can be followed by an `else` part, which is executed if the condition in the loop header is not fulfilled"
   ]
  },
  {
   "cell_type": "code",
   "execution_count": 37,
   "metadata": {},
   "outputs": [
    {
     "name": "stdout",
     "output_type": "stream",
     "text": [
      "Delicious, bacon\n",
      "Delicious, egg\n",
      "cheese i don't like\n",
      "I'm full\n"
     ]
    }
   ],
   "source": [
    "dishes = [\"bacon\", \"egg\", \"cheese\", \"cereal\"]\n",
    "for dish in dishes:\n",
    "    if dish == \"cheese\":\n",
    "        print(dish + \" i don't like\")\n",
    "        break\n",
    "    print(\"Delicious, \" + dish)\n",
    "else:\n",
    "    print(\"I was lucky, no cheese!\")\n",
    "print(\"I'm full\")"
   ]
  },
  {
   "cell_type": "markdown",
   "metadata": {},
   "source": [
    "## Formatted output and string formatting"
   ]
  },
  {
   "cell_type": "markdown",
   "metadata": {},
   "source": [
    "### print()\n",
    "- The call behaviour of the `print()` function is defined as follows: `print(val1, ... , sep=' ', end='\\n', file=sys.stdout, flush=False)`"
   ]
  },
  {
   "cell_type": "code",
   "execution_count": 38,
   "metadata": {},
   "outputs": [
    {
     "name": "stdout",
     "output_type": "stream",
     "text": [
      "Hello World\n",
      "HelloWorld\n",
      "Hello\n",
      " World\n",
      "0123"
     ]
    }
   ],
   "source": [
    "print(\"Hello\", \"World\")\n",
    "print(\"Hello\", \"World\", sep=\"\")\n",
    "print(\"Hello\\n\", \"World\")\n",
    "for i in range(4):\n",
    "    print(i, end=\"\")"
   ]
  },
  {
   "cell_type": "markdown",
   "metadata": {},
   "source": [
    "### Placeholder symbols\n",
    "- You can create formatted `strings` with `string` formatting, similar to the `printf` and `sprintf` functions in `C`"
   ]
  },
  {
   "cell_type": "code",
   "execution_count": 39,
   "metadata": {},
   "outputs": [
    {
     "name": "stdout",
     "output_type": "stream",
     "text": [
      "Value Nr. 1234:     1.81\n",
      "Value Nr. 12:       1.81\n",
      "Value Nr. 12:    1.81500\n"
     ]
    }
   ],
   "source": [
    "print(\"Value Nr. %4d: %8.2f\" % (1234, 1.815))\n",
    "print(\"Value Nr. %d: %10.2f\" % (12, 1.815))\n",
    "print(\"Value Nr. %d: %10.5f\" % (12.01, 1.815))"
   ]
  },
  {
   "cell_type": "markdown",
   "metadata": {},
   "source": [
    "| Operation   | Meaning                                                                                                            |\n",
    "| :-----------| :------------------------------------------------------------------------------------------------------------------|\n",
    "| d           | Signed integer (integer, decimal)                                                                                  | \n",
    "| o           | Unsigned integer (octal)                                                                                           |\n",
    "| u           | Unsigned integer (decimal)                                                                                         |\n",
    "| x           | Unsigned integers (hexadecimal)                                                                                    |\n",
    "| X           | Uppercase variant of x                                                                                             | \n",
    "| e           | Floating point number in exponential format                                                                        |\n",
    "| E           | Floating point number in exponential format like e, but capital letter for exponent \"e\"                            |\n",
    "| f           | Floating point representation                                                                                      | \n",
    "| F           | Floating point representation like f, except that nan is represented as NAN                                        |  \n",
    "| g           | Corresponds to either e or f. This is decided depending on the size of the value and the given precision           | \n",
    "| G           | Analogue to g, but it corresponds to either E or F                                                                 | \n",
    "| s           | String (converts any object using str())                                                                           | "
   ]
  },
  {
   "cell_type": "markdown",
   "metadata": {},
   "source": [
    "### String formatting - format()\n",
    "- Position parameters and formatting can be specified in curly brackets\n",
    "- Keyword parameters can also be used instead of positional parameters"
   ]
  },
  {
   "cell_type": "code",
   "execution_count": 40,
   "metadata": {},
   "outputs": [
    {
     "name": "stdout",
     "output_type": "stream",
     "text": [
      "Weight=70.50, Age: 40\n",
      "Weight=70.50, Age: 40\n"
     ]
    }
   ],
   "source": [
    "print(\"Weight={0:3.2f}, Age: {1:d}\".format(70.5, 40))\n",
    "print(\"Weight={g:3.2f}, Age: {a:d}\".format(g=70.5, a=40))"
   ]
  },
  {
   "cell_type": "markdown",
   "metadata": {},
   "source": [
    "## Shallow and deep copying"
   ]
  },
  {
   "cell_type": "markdown",
   "metadata": {},
   "source": [
    "- We have already learnt that variables are references to objects\n",
    "- For immutable data types, you can create a copy using a simple assignment\n",
    "- This no longer works for mutable data types"
   ]
  },
  {
   "cell_type": "code",
   "execution_count": 41,
   "metadata": {},
   "outputs": [
    {
     "name": "stdout",
     "output_type": "stream",
     "text": [
      "140155814871344\n",
      "140155814871344\n",
      "3\n",
      "1\n",
      "140155751360320\n",
      "140155751360320\n",
      "[1, 2, 4]\n",
      "[1, 2, 4]\n"
     ]
    }
   ],
   "source": [
    "x = 3\n",
    "y = x\n",
    "print(id(x))\n",
    "print(id(y))\n",
    "x = 1\n",
    "print(y)\n",
    "print(x)\n",
    "\n",
    "x = [1,2,3]\n",
    "y = x\n",
    "print(id(x))\n",
    "print(id(y))\n",
    "x[2] = 4\n",
    "print(y)\n",
    "print(x)"
   ]
  },
  {
   "cell_type": "markdown",
   "metadata": {},
   "source": [
    "- The assignment `y=x` causes `y` to point to the same object in the memory as `x`\n",
    "- If the `list` is changed, the memory position does not change. The change is therefore reflected in `x` and `y`"
   ]
  },
  {
   "cell_type": "markdown",
   "metadata": {},
   "source": [
    "### Flat copies\n",
    "- Using the `copy` method of the `list` class, we can create flat copies of lists\n",
    "- This causes pointers to the individual list elements to be copied\n",
    "- As soon as sublists come into play, only pointers to these sublists are copied"
   ]
  },
  {
   "cell_type": "code",
   "execution_count": 42,
   "metadata": {},
   "outputs": [
    {
     "name": "stdout",
     "output_type": "stream",
     "text": [
      "140155751296512\n",
      "140155751105408\n",
      "[1, 2, 3]\n",
      "[1, 2, 4]\n"
     ]
    }
   ],
   "source": [
    "x = [1,2,3]\n",
    "y = x.copy()\n",
    "print(id(x))\n",
    "print(id(y))\n",
    "x[2] = 4\n",
    "print(y)\n",
    "print(x)"
   ]
  },
  {
   "cell_type": "markdown",
   "metadata": {},
   "source": [
    "- If a list element is again a list, the pointer to this list is copied by `copy()`\n",
    "- Changing an entry in the sub-list affects both lists"
   ]
  },
  {
   "cell_type": "code",
   "execution_count": 43,
   "metadata": {},
   "outputs": [
    {
     "name": "stdout",
     "output_type": "stream",
     "text": [
      "140155751358976\n",
      "140155751193408\n",
      "[1, 2, [3, 4, 9]]\n",
      "[1, 2, [3, 4, 9]]\n"
     ]
    }
   ],
   "source": [
    "x = [1,2,[3,4,5]]\n",
    "y = x.copy()\n",
    "print(id(x))\n",
    "print(id(y))\n",
    "x[2][2] = 9\n",
    "print(y)\n",
    "print(x)"
   ]
  },
  {
   "cell_type": "markdown",
   "metadata": {},
   "source": [
    "### DeepCopy\n",
    "- The `copy` module, which provides the `deepcopy` function, provides a remedy for the problem just described"
   ]
  },
  {
   "cell_type": "code",
   "execution_count": 44,
   "metadata": {},
   "outputs": [
    {
     "name": "stdout",
     "output_type": "stream",
     "text": [
      "140155751359616\n",
      "140155751358848\n",
      "[1, 2, [3, 4, 5]]\n",
      "[1, 2, [3, 4, 9]]\n"
     ]
    }
   ],
   "source": [
    "from copy import deepcopy\n",
    "x = [1,2,[3,4,5]]\n",
    "y = deepcopy(x)\n",
    "print(id(x))\n",
    "print(id(y))\n",
    "x[2][2] = 9\n",
    "print(y)\n",
    "print(x)"
   ]
  },
  {
   "cell_type": "markdown",
   "metadata": {},
   "source": [
    "## Functions"
   ]
  },
  {
   "cell_type": "markdown",
   "metadata": {},
   "source": [
    "- A function definition in `Python` is introduced with the key value `def`, followed by a freely selectable function name\n",
    "- The function body can contain one or more `return` statements\n",
    "- A `return` statement terminates the function call, and the result of the expression following the `return` statement is returned to the calling location\n",
    "- If the `return` is not followed by an expression, the special value `None` is returned\n",
    "- If the function call reaches the end of the function body without encountering a `return` statement, the function call ends and the value `None` is also returned"
   ]
  },
  {
   "cell_type": "code",
   "execution_count": 45,
   "metadata": {},
   "outputs": [
    {
     "name": "stdout",
     "output_type": "stream",
     "text": [
      "Hello Prof. Dr.-Ing. Christian Bergler\n"
     ]
    }
   ],
   "source": [
    "#def functionname(parameterlist):\n",
    "    #statment(s)\n",
    "\n",
    "def say_hello(name):\n",
    "    print(\"Hello\", name)\n",
    "\n",
    "say_hello(\"Prof. Dr.-Ing. Christian Bergler\")"
   ]
  },
  {
   "cell_type": "markdown",
   "metadata": {},
   "source": [
    "- `Doc-Strings` are placed directly after the function header (after the `def` line)\n",
    "- The `doc string` is output by the call `help(function name)`"
   ]
  },
  {
   "cell_type": "code",
   "execution_count": 46,
   "metadata": {},
   "outputs": [
    {
     "name": "stdout",
     "output_type": "stream",
     "text": [
      "77.0\n",
      "Help on function fahrenheit in module __main__:\n",
      "\n",
      "fahrenheit(T_in_Celsius)\n",
      "    Converts T_in_Celsius to degrees Fahrenheit\n",
      "\n"
     ]
    }
   ],
   "source": [
    "def fahrenheit(T_in_Celsius):\n",
    "    \"\"\"Converts T_in_Celsius to degrees Fahrenheit\"\"\"\n",
    "    return T_in_Celsius * 9/5 + 32\n",
    "\n",
    "T_in_Fahrenheit = fahrenheit(25)\n",
    "print(T_in_Fahrenheit)\n",
    "\n",
    "help(fahrenheit)"
   ]
  },
  {
   "cell_type": "markdown",
   "metadata": {},
   "source": [
    "- A `doc string` can also be at the beginning of a `Python` file\n",
    "- The file can now be imported like a module\n",
    "- Then you can call `help` on the module name"
   ]
  },
  {
   "cell_type": "code",
   "execution_count": 47,
   "metadata": {},
   "outputs": [
    {
     "name": "stdout",
     "output_type": "stream",
     "text": [
      "Help on converter in module __main__ object:\n",
      "\n",
      "class converter(builtins.object)\n",
      " |  A module with conversion aids between degrees Celsius and degrees Fahrenheit\n",
      " |  \n",
      " |  Methods defined here:\n",
      " |  \n",
      " |  celsius(T_in_Fahrenheit)\n",
      " |      Converts T_in_ Fahrenheit to degrees Celsius\n",
      " |  \n",
      " |  fahrenheit(T_in_Celsius)\n",
      " |      Converts T_in_Celsius to degrees Fahrenheit\n",
      " |  \n",
      " |  ----------------------------------------------------------------------\n",
      " |  Data descriptors defined here:\n",
      " |  \n",
      " |  __dict__\n",
      " |      dictionary for instance variables (if defined)\n",
      " |  \n",
      " |  __weakref__\n",
      " |      list of weak references to the object (if defined)\n",
      "\n"
     ]
    }
   ],
   "source": [
    "class converter():\n",
    "    \"\"\"\n",
    "    A module with conversion aids between degrees Celsius and degrees Fahrenheit\n",
    "    \"\"\"\n",
    "    \n",
    "    def fahrenheit(T_in_Celsius):\n",
    "        \"\"\"Converts T_in_Celsius to degrees Fahrenheit\"\"\"\n",
    "        return T_in_Celsius * 9/5 + 32\n",
    "    \n",
    "    def celsius(T_in_Fahrenheit):\n",
    "        \"\"\"Converts T_in_ Fahrenheit to degrees Celsius\"\"\"\n",
    "        return (T_in_Fahrenheit-32) * 5/9\n",
    "    \n",
    "conv = converter()\n",
    "help(conv)"
   ]
  },
  {
   "cell_type": "markdown",
   "metadata": {},
   "source": [
    "### Default values for function parameters\n",
    "- Function parameters can be assigned `default` values\n",
    "- Function parameters with `default` values are optional when called\n",
    "- If a function parameter is omitted from the call, the `default` value is used\n",
    "- If only one argument is specified in the example below, the value is assigned to the first argument, while the default value is used for the second argument\n",
    "- Keyword parameters can be used to assign a value to the second argument only"
   ]
  },
  {
   "cell_type": "code",
   "execution_count": 48,
   "metadata": {},
   "outputs": [
    {
     "name": "stdout",
     "output_type": "stream",
     "text": [
      "6\n",
      "96\n",
      "12\n",
      "2\n"
     ]
    }
   ],
   "source": [
    "def compute_area(height=3, width=2):\n",
    "    return height*width\n",
    "\n",
    "area = compute_area()\n",
    "print(area)\n",
    "\n",
    "area = compute_area(12,8)\n",
    "print(area)\n",
    "\n",
    "area = compute_area(width=4)\n",
    "print(area)\n",
    "\n",
    "area = compute_area(height=1)\n",
    "print(area)"
   ]
  },
  {
   "cell_type": "markdown",
   "metadata": {},
   "source": [
    "### Functions with multiple return parameters\n",
    "- In principle, a function can return exactly one object\n",
    "- For example, if you want to return several `integers`, you can pack them into a `list` or a `tuple` and return it"
   ]
  },
  {
   "cell_type": "code",
   "execution_count": 49,
   "metadata": {},
   "outputs": [
    {
     "name": "stdout",
     "output_type": "stream",
     "text": [
      "Christian\n",
      "Bergler\n"
     ]
    }
   ],
   "source": [
    "def multiple_return(value1, value2):\n",
    "    return (value1, value2)\n",
    "\n",
    "v1, v2 = multiple_return(\"Christian\", \"Bergler\")\n",
    "print(v1)\n",
    "print(v2)"
   ]
  },
  {
   "cell_type": "markdown",
   "metadata": {},
   "source": [
    "### Local and global variables\n",
    "- Variables are `local` in a function by default\n",
    "- However, you can also have read access to `global` variables\n",
    "- If you try to change `loc` within foo, an error occurs"
   ]
  },
  {
   "cell_type": "code",
   "execution_count": 50,
   "metadata": {},
   "outputs": [
    {
     "name": "stdout",
     "output_type": "stream",
     "text": [
      "Christian Bergler\n"
     ]
    }
   ],
   "source": [
    "def foo_global():\n",
    "    return glob\n",
    "\n",
    "def foo_local():\n",
    "    loc = \"Fabian Brunner\"\n",
    "    return loc\n",
    "    \n",
    "glob = \"Christian Bergler\"\n",
    "print(foo_global())\n",
    "\n",
    "#Results in an UnboundLocalError exception as loc is a local variable of the foo_local function\n",
    "#loc = \"Patrick Levi\"\n",
    "#print(foo_local())"
   ]
  },
  {
   "cell_type": "markdown",
   "metadata": {},
   "source": [
    "- If you want to write to a global variable within a function, you must explicitly declare it as `global`\n",
    "- If you define a variable within a function as `global`, it does not have to exist in the namespace from which the function is called. The variable is created at runtime and also exists in the namespace from which the function was called after the function has been processed"
   ]
  },
  {
   "cell_type": "code",
   "execution_count": 51,
   "metadata": {},
   "outputs": [
    {
     "name": "stdout",
     "output_type": "stream",
     "text": [
      "Christian Bergler\n",
      "Patrick Levi\n"
     ]
    }
   ],
   "source": [
    "def foo_def_as_global():\n",
    "    global loc\n",
    "    print(loc)\n",
    "    loc = \"Patrick Levi\"\n",
    "    return loc\n",
    "\n",
    "loc = \"Christian Bergler\"\n",
    "loc = foo_def_as_global()\n",
    "print(loc)"
   ]
  },
  {
   "cell_type": "markdown",
   "metadata": {},
   "source": [
    "### Parameter passing\n",
    "- In Python, function calls are made according to the `Call by Object` mechanism\n",
    "- If immutable arguments such as `integers, strings` or `tuples` are passed, the transfer behaves like a value transfer\n",
    "- The reference to the immutable object is transferred to the formal parameter of the function\n",
    "- The content of the object cannot be changed within the function"
   ]
  },
  {
   "cell_type": "code",
   "execution_count": 52,
   "metadata": {},
   "outputs": [
    {
     "name": "stdout",
     "output_type": "stream",
     "text": [
      "variable to hand over = 4 140155814871376\n",
      "hand over: 4 ptr: 140155814871376\n",
      "local change: 8 ptr: 140155814871504\n",
      "variable to hand over = 4 140155814871376\n"
     ]
    }
   ],
   "source": [
    "def param_hand_over(x):\n",
    "    print(\"hand over: \" + str(x) + \" ptr: \" + str(id(x)))\n",
    "    x = 8\n",
    "    print(\"local change: \" + str(x) + \" ptr: \" + str(id(x)))\n",
    "   \n",
    "x = 4\n",
    "print(\"variable to hand over = \" + str(x) + \" \" + str(id(x)))\n",
    "param_hand_over(x)\n",
    "print(\"variable to hand over = \" + str(x) + \" \" + str(id(x)))"
   ]
  },
  {
   "cell_type": "markdown",
   "metadata": {},
   "source": [
    "- We have just seen that immutable objects that are passed to a function as formal parameters cannot be changed in the function\n",
    "- The situation is different with mutable objects such as lists or dictionaries. These can be changed within the function"
   ]
  },
  {
   "cell_type": "code",
   "execution_count": 53,
   "metadata": {},
   "outputs": [
    {
     "name": "stdout",
     "output_type": "stream",
     "text": [
      "['Bergler', 'Levi', 'Brunner', 'Schäfer']\n",
      "['Bergler', 'Levi', 'Brunner']\n",
      "['Bergler', 'Levi', 'Brunner', 'Pirkl']\n"
     ]
    }
   ],
   "source": [
    "def param_hand_over(x):\n",
    "    x.append(\"Schäfer\")\n",
    "   \n",
    "x = [\"Bergler\", \"Levi\", \"Brunner\"]\n",
    "param_hand_over(x)\n",
    "print(x)\n",
    "\n",
    "def param_hand_over_other(x):\n",
    "    x = x + [\"Pirkl\"]\n",
    "   \n",
    "x = [\"Bergler\", \"Levi\", \"Brunner\"]\n",
    "param_hand_over_other(x)\n",
    "print(x)\n",
    "\n",
    "def param_hand_over_other_return(x):\n",
    "    x = x + [\"Pirkl\"]\n",
    "    return x\n",
    "   \n",
    "x = [\"Bergler\", \"Levi\", \"Brunner\"]\n",
    "x = param_hand_over_other_return(x)\n",
    "print(x)"
   ]
  },
  {
   "cell_type": "markdown",
   "metadata": {},
   "source": [
    "## Modularization"
   ]
  },
  {
   "cell_type": "markdown",
   "metadata": {},
   "source": [
    "**Modularization**:\n",
    "- The aim of modular programming is to split programmes systematically into logical sub-blocks (`modules`)\n",
    "- The division of the source code into individual parts is referred to as modularization\n",
    "- Objectives: Readability, reliability, easy maintenance\n",
    "  \n",
    "**Modules in Python**\n",
    "- In Python, a module is a file that can contain definitions and statements\n",
    "- The file name is the name of the module with the suffix `\".py\"`.\n",
    "- Within a module, the name of the module is available in the global variable ` __ name __ `\n",
    "- Import the `oth.py` module\n",
    "- You can use `dir()` to display the names defined in a module\n",
    "- The functions can now be accessed via the module name\n",
    "- If you want to access the functions contained in the module without the prefix of the module name, you can also import the functions explicitly into the global namespace (more on namespaces below)"
   ]
  },
  {
   "cell_type": "code",
   "execution_count": 54,
   "metadata": {},
   "outputs": [
    {
     "name": "stdout",
     "output_type": "stream",
     "text": [
      "['__builtins__', '__cached__', '__doc__', '__file__', '__loader__', '__name__', '__package__', '__spec__', 'combine_lecture_details', 'get_exam_result_in_percentage']\n",
      "Professor Christian Bergler will lecture subject Deep Learning in the SS-2024 at Thursday - 08:00 a.m. in Room DC 107\n",
      "Student exam result: 78.67%\n"
     ]
    }
   ],
   "source": [
    "import oth\n",
    "print(dir(oth))\n",
    "lecture_details = oth.combine_lecture_details(\"Christian Bergler\", \"Deep Learning\", \"SS-2024\", \"Thursday - 08:00 a.m.\", \"DC 107\")\n",
    "exam_result_perc = oth.get_exam_result_in_percentage(75, 59)\n",
    "print(lecture_details)\n",
    "print(\"Student exam result: %2.2f\" % exam_result_perc + \"%\")"
   ]
  },
  {
   "cell_type": "code",
   "execution_count": 55,
   "metadata": {},
   "outputs": [
    {
     "name": "stdout",
     "output_type": "stream",
     "text": [
      "Professor Fabian Brunner will lecture subject Data Analytics & Engineering in the SS-2024 at Monday - 08:00 a.m. in Room EMI 214\n",
      "Student exam result: 86.67%\n"
     ]
    }
   ],
   "source": [
    "from oth import combine_lecture_details, get_exam_result_in_percentage\n",
    "lecture_details = combine_lecture_details(\"Fabian Brunner\", \"Data Analytics & Engineering\", \"SS-2024\", \"Monday - 08:00 a.m.\", \"EMI 214\")\n",
    "exam_result_perc = get_exam_result_in_percentage(60, 52)\n",
    "print(lecture_details)\n",
    "print(\"Student exam result: %2.2f\" % exam_result_perc + \"%\")"
   ]
  },
  {
   "cell_type": "markdown",
   "metadata": {},
   "source": [
    "### Create and use modules\n",
    "- When importing a module, you can use `import ... as` to select a new name for the namespace\n",
    "- Alternatively, you can also include an entire module in the global namespace so that functions and variables can be accessed without a prefix. However, this may overwrite any existing names with the same name"
   ]
  },
  {
   "cell_type": "code",
   "execution_count": 56,
   "metadata": {},
   "outputs": [
    {
     "name": "stdout",
     "output_type": "stream",
     "text": [
      "Student exam result: 92.00%\n",
      "3.141592653589793\n"
     ]
    }
   ],
   "source": [
    "import oth as o\n",
    "exam_result_perc = o.get_exam_result_in_percentage(50, 46)\n",
    "print(\"Student exam result: %2.2f\" % exam_result_perc + \"%\")\n",
    "\n",
    "pi = 28.35\n",
    "\n",
    "from math import *\n",
    "\n",
    "print(pi)"
   ]
  },
  {
   "cell_type": "markdown",
   "metadata": {},
   "source": [
    "### Search path for modules\n",
    "- When a module is imported for the first time, the generated byte code is stored in the `__ pycache __` folder as a `.pyc file`.\n",
    "- If a module is imported, e.g. `oth`, the interpreter searches for `oth.py` in the following order:\n",
    "    - in the `current directory`\n",
    "    - in the `PYTHONPATH`\n",
    "    - if `PYTHONPATH` is not set, in the `default path`\n",
    "- `sys.path` contains all directories in which modules are searched for"
   ]
  },
  {
   "cell_type": "code",
   "execution_count": 57,
   "metadata": {},
   "outputs": [
    {
     "name": "stdout",
     "output_type": "stream",
     "text": [
      "/home/be/Documents/oth-lectures/AIPR-MAI/AIPR/AIPR-03-Python-Refresher\n",
      "/usr/lib/python310.zip\n",
      "/usr/lib/python3.10\n",
      "/usr/lib/python3.10/lib-dynload\n",
      "\n",
      "/home/be/Projects/Hacking/venv/lib/python3.10/site-packages\n"
     ]
    }
   ],
   "source": [
    "import sys\n",
    "for path in sys.path:\n",
    "    print(path)"
   ]
  },
  {
   "cell_type": "markdown",
   "metadata": {},
   "source": [
    "### Create your own packages\n",
    "- Several modules can be combined in packages\n",
    "- To do this, create a subfolder in a directory in which the individual Python modules are collected accordingly\n",
    "- In this folder, create a file called ` __ init.py __ `, which can be empty or contain initialization code that is executed when the package is included\n",
    "- Then place the modules intended for the package in the directory (various `*.py` modules, such as `oth.py`)"
   ]
  },
  {
   "cell_type": "code",
   "execution_count": 58,
   "metadata": {},
   "outputs": [
    {
     "name": "stdout",
     "output_type": "stream",
     "text": [
      "(49.4403198, 11.8633445)\n",
      "Plus hours of: 4\n"
     ]
    }
   ],
   "source": [
    "from OTHpackage import prof, location\n",
    "\n",
    "amberg_geo = location.get_geo_location(\"Amberg\")\n",
    "print(amberg_geo)\n",
    "remain_sws = prof.get_remaining_sws(22)\n",
    "if remain_sws < 0:\n",
    "    print(\"Minus hours of:\", remain_sws)\n",
    "else:\n",
    "    print(\"Plus hours of:\", remain_sws)"
   ]
  },
  {
   "cell_type": "markdown",
   "metadata": {},
   "source": [
    "- If you try to import the package directly using `import OTHpackage` and access a contained module, you will receive an error message. Modules in a package are not imported automatically\n",
    "- To make this work, you can modify the initialisation behaviour of ` __ init.py __ ` and write the `import` statement `from OTHpackage import prof`, location in ` __ init.py __ `"
   ]
  },
  {
   "cell_type": "code",
   "execution_count": 59,
   "metadata": {},
   "outputs": [
    {
     "name": "stdout",
     "output_type": "stream",
     "text": [
      "(49.4403198, 11.8633445)\n",
      "Plus hours of: 4\n"
     ]
    }
   ],
   "source": [
    "import OTHpackage\n",
    "\n",
    "amberg_geo = OTHpackage.location.get_geo_location(\"Amberg\")\n",
    "print(amberg_geo)\n",
    "remain_sws = OTHpackage.prof.get_remaining_sws(22)\n",
    "if remain_sws < 0:\n",
    "    print(\"Minus hours of:\", remain_sws)\n",
    "else:\n",
    "    print(\"Plus hours of:\", remain_sws)"
   ]
  },
  {
   "cell_type": "markdown",
   "metadata": {},
   "source": [
    "- To import a complete package, there is the asterisk operator (`from OTHpackage import *`)\n",
    "- Assume that the ` __ init __.py` of the `OTHpackage` package is as follows: `print(\"Initialisation of the OTHPackage\")`\n",
    "- When using the package via: `from OTHpackage import *` only the print statement is displayed\n",
    "- However, the modules `prof` and `location` are not loaded, contrary to what one would expect\n",
    "\n",
    "**Import complete package**\n",
    "- Automatic reloading can be achieved if the author of a package creates a package index\n",
    "- A package index is created by defining a list with the name ` __ all __ ` in the `__ init __.py` file\n",
    "- The ` __ all __ ` list contains all module names that are to be imported if a `*` is to be used in the `import`"
   ]
  },
  {
   "cell_type": "code",
   "execution_count": 60,
   "metadata": {},
   "outputs": [],
   "source": [
    "#The package index can be defined within the __ init __.py file\n",
    "#print(\"Initialization of the OTHPackage\")\n",
    "#__ all __ = [\"prof\", \"location\"]"
   ]
  },
  {
   "cell_type": "markdown",
   "metadata": {},
   "source": [
    "- If the package `new_package` is now imported using `import *`, the modules `prof` and `location` are loaded\n",
    "- For example, if you use the `math` package and import the complete package via `from math import *`, the various embedded Python modules can be used directly"
   ]
  },
  {
   "cell_type": "code",
   "execution_count": 61,
   "metadata": {},
   "outputs": [
    {
     "name": "stdout",
     "output_type": "stream",
     "text": [
      "2.0\n",
      "3.0\n"
     ]
    }
   ],
   "source": [
    "from math import *\n",
    "log_res = log10(100)\n",
    "sqrt_res = sqrt(9)\n",
    "print(log_res)\n",
    "print(sqrt_res)"
   ]
  },
  {
   "cell_type": "markdown",
   "metadata": {},
   "source": [
    "## Namespaces and scopes\n",
    "\n",
    "### Namespaces\n",
    "- A namespace is an assignment of names to objects\n",
    "- In `Python` there are the following namespaces\n",
    "    - The names of the `built-in` functions\n",
    "    - The `global names` of a module\n",
    "    - The `local names` of a function call\n",
    "- Different namespaces exist in isolation from each other and can have different lifetimes\n",
    "- With `globals()` you can output the namespace of the module, with `locals()` the local namespace\n",
    "- By `importing` a `Python` module, the module is loaded into the global namespace and made known\n",
    "- The functions are then accessed using `modulename.functionname(parameterlist)`.\n",
    "- Using - `from modulename import functionA, functionB` - the function names are loaded directly into the global namespace"
   ]
  },
  {
   "cell_type": "code",
   "execution_count": 62,
   "metadata": {},
   "outputs": [
    {
     "name": "stdout",
     "output_type": "stream",
     "text": [
      "local variable of function compute_area:  {'height': 4, 'width': 12, 'area': 48}\n"
     ]
    }
   ],
   "source": [
    "def compute_area(height=3, width=2):\n",
    "    area = height*width\n",
    "    print(\"local variable of function compute_area: \", locals())\n",
    "    #print(\"global variable of function compute_area: \", globals())\n",
    "    return area\n",
    "\n",
    "region = compute_area(4, 12)"
   ]
  },
  {
   "cell_type": "markdown",
   "metadata": {},
   "source": [
    "### Scopes\n",
    "- A scope is a region of a `Python` programme in which a `namespace` is directly available\n",
    "- At any point during execution, there may be several nested `scopes` whose namespaces are available:\n",
    "    - The `innermost scope`, which is searched first and contains the `local` names\n",
    "    - The `enclosing namespace` (also contains the global names of the current module), which is searched from the next enclosing namespace and contains non-local but also non-global names.\n",
    "    - The penultimate scope contains the `global` names of the current module\n",
    "    - The last `validity range` (last searched) is the `namespace`, which contains the `built-in` names\n",
    "- Degree of availability (from inside to outside): `local, enclosing, global, built-in`"
   ]
  },
  {
   "cell_type": "markdown",
   "metadata": {},
   "source": [
    "**Nested scopes**\n",
    "- The `global` statement can be used to indicate that certain variables exist in the global scope and should be rebound\n",
    "- The `nonlocal` statement indicates that a specific variable exists in the surrounding scope and should be rebound here\n",
    "\n",
    "**Variant (A)**\n",
    "- The variable `x` is defined locally in each of the functions `f` and `h`\n",
    "- Changing the value in function `h` has no effect on higher-level scopes of validity"
   ]
  },
  {
   "cell_type": "code",
   "execution_count": 63,
   "metadata": {},
   "outputs": [
    {
     "name": "stdout",
     "output_type": "stream",
     "text": [
      "x in function f before function h:  1\n",
      "x in function f after function h:  1\n",
      "x after calling f:  0\n"
     ]
    }
   ],
   "source": [
    "def f():\n",
    "    x = 1\n",
    "    print(\"x in function f before function h: \", x)\n",
    "\n",
    "    def h():\n",
    "        x = 2\n",
    "    h()\n",
    "    print(\"x in function f after function h: \", x)\n",
    "\n",
    "x = 0\n",
    "f()\n",
    "print(\"x after calling f: \", x)"
   ]
  },
  {
   "cell_type": "markdown",
   "metadata": {},
   "source": [
    "**Variant (B)**\n",
    "- The variable `x` in the function `h` is now defined as `nonlocal`\n",
    "- The change from `x` to `h` affects the higher-level scope, but not the `global` scope"
   ]
  },
  {
   "cell_type": "code",
   "execution_count": 64,
   "metadata": {},
   "outputs": [
    {
     "name": "stdout",
     "output_type": "stream",
     "text": [
      "x in Funktion f vor Funktion h:  1\n",
      "x in Funktion f nach Funktion h:  2\n",
      "x after calling f:  0\n"
     ]
    }
   ],
   "source": [
    "def f():\n",
    "    x = 1\n",
    "    print(\"x in Funktion f vor Funktion h: \", x)\n",
    "\n",
    "    def h():\n",
    "        nonlocal x\n",
    "        x = 2\n",
    "    h()\n",
    "    print(\"x in Funktion f nach Funktion h: \", x)\n",
    "\n",
    "x = 0\n",
    "f()\n",
    "print(\"x after calling f: \", x)"
   ]
  },
  {
   "cell_type": "markdown",
   "metadata": {},
   "source": [
    "**Variant (C)**\n",
    "- The variable `x` in the function `h` is now defined as `global`\n",
    "- Changing `x` to `h` affects the global scope, but not the superordinate scope"
   ]
  },
  {
   "cell_type": "code",
   "execution_count": 65,
   "metadata": {},
   "outputs": [
    {
     "name": "stdout",
     "output_type": "stream",
     "text": [
      "x in function f before function h:  1\n",
      "x in function f after function h:  1\n",
      "x after calling f:  2\n"
     ]
    }
   ],
   "source": [
    "def f():\n",
    "    x = 1\n",
    "    print(\"x in function f before function h: \", x)\n",
    "\n",
    "    def h():\n",
    "        global x\n",
    "        x = 2\n",
    "    h()\n",
    "    print(\"x in function f after function h: \", x)\n",
    "\n",
    "x = 0\n",
    "f()\n",
    "print(\"x after calling f: \", x)"
   ]
  },
  {
   "cell_type": "markdown",
   "metadata": {},
   "source": [
    "## Exception handling"
   ]
  },
  {
   "cell_type": "markdown",
   "metadata": {},
   "source": [
    "### Try und Except"
   ]
  },
  {
   "cell_type": "markdown",
   "metadata": {},
   "source": [
    "How `try` works:\n",
    "- The `try` block is executed first.\n",
    "- If no exception occurs, the `except` block is skipped and the programme continues normally.\n",
    "- If an exception occurs, the rest of the `try` block is skipped. If the type of exception matches the `except` keyword, the `except` block is executed and programme execution continues after the `try` statement\n",
    "- If an exception occurs that does not match the type in the `except` statement, the exception is passed on to any existing outer `try` statements and can be handled there"
   ]
  },
  {
   "cell_type": "code",
   "execution_count": 66,
   "metadata": {},
   "outputs": [
    {
     "name": "stdin",
     "output_type": "stream",
     "text": [
      "Enter a number:  2\n"
     ]
    }
   ],
   "source": [
    "while True:\n",
    "    try:\n",
    "        x = float(input(\"Enter a number: \"))\n",
    "        break\n",
    "    except ValueError:\n",
    "        print(\"Please again! That is not a number!\")"
   ]
  },
  {
   "cell_type": "code",
   "execution_count": 67,
   "metadata": {},
   "outputs": [
    {
     "name": "stdout",
     "output_type": "stream",
     "text": [
      "Divide by 0!\n",
      "Division by zero is intercepted in the outer try-except block!\n"
     ]
    }
   ],
   "source": [
    "try:\n",
    "    print(\"Divide by 0!\")\n",
    "    try:\n",
    "        print(1.0/0.0)\n",
    "    except ValueError:\n",
    "        print(\"This is exception is not called!\")\n",
    "except ZeroDivisionError:\n",
    "    print(\"Division by zero is intercepted in the outer try-except block!\")"
   ]
  },
  {
   "cell_type": "markdown",
   "metadata": {},
   "source": [
    "**Catching multiple exceptions**\n",
    "- The unspecific `except` block is executed if an exception occurs that does not correspond to any of the specified specific exceptions\n",
    "- The `raise` statement re-executes the exception that has just been caught"
   ]
  },
  {
   "cell_type": "code",
   "execution_count": 68,
   "metadata": {},
   "outputs": [
    {
     "name": "stdout",
     "output_type": "stream",
     "text": [
      "I/O error (2): No such file or directory\n"
     ]
    }
   ],
   "source": [
    "import sys\n",
    "\n",
    "try:\n",
    "    f = open(\"not-existing.txt\")\n",
    "    s = f.readline()\n",
    "    i = int(s.strip())\n",
    "    print(\"1.0/i =\", 1.0/i)\n",
    "except IOError as err:\n",
    "    (errno, strerror) = err.args\n",
    "    print(\"I/O error ({0}): {1}\".format(errno, strerror))\n",
    "except ValueError:\n",
    "    print(\"No valid Integer!\")\n",
    "except:\n",
    "    print(\"Unexpected error:\", sys.exc_info()[0])"
   ]
  },
  {
   "cell_type": "markdown",
   "metadata": {},
   "source": [
    "**Finally expression**\n",
    "- In addition to `except` clauses, there is also a `finally` clause in connection with `try`\n",
    "- This is executed under all circumstances, regardless of whether an exception has occurred or not"
   ]
  },
  {
   "cell_type": "code",
   "execution_count": 69,
   "metadata": {},
   "outputs": [
    {
     "name": "stdin",
     "output_type": "stream",
     "text": [
      "Please enter a number:  2\n"
     ]
    },
    {
     "name": "stdout",
     "output_type": "stream",
     "text": [
      "This code block is always executed, regardless of whether an error occurs or not!\n",
      "This expression is only achieved if no exception occurs!\n"
     ]
    }
   ],
   "source": [
    "try:\n",
    "    x = float(input(\"Please enter a number: \"))\n",
    "    inverse = 1.0/x\n",
    "finally:\n",
    "    print(\"This code block is always executed, regardless of whether an error occurs or not!\")\n",
    "\n",
    "print(\"This expression is only achieved if no exception occurs!\")"
   ]
  },
  {
   "cell_type": "markdown",
   "metadata": {},
   "source": [
    "## Object-oriented programming\n",
    "\n",
    "- `Python` as an object-oriented language:\n",
    "    - We have already implicitly learnt about elements of object-oriented programming\n",
    "    - For example, we had used objects and methods of classes, e.g. string methods\n",
    "    - In this section, we will take a closer look at the object-oriented approach in Python\n",
    "- Important principles of object-orientation:\n",
    "    - `Data abstraction`\n",
    "    - `Data encapsulation and privacy principle`\n",
    "    - `Inheritance`\n",
    "    - `Polymorphism`"
   ]
  },
  {
   "cell_type": "markdown",
   "metadata": {},
   "source": [
    "**Class Definition, Class and Instance Variables**\n",
    "\n",
    "- A class definition needs to be executed like a function definition before it has any effect.\n",
    "- For instance, it is conceivable to place a class definition inside an `if` statement or a function.\n",
    "- Upon entering a class definition, a new namespace is created and used as the local scope.\n",
    "- Upon leaving a class definition, a class object is created.\n",
    "- The original namespace is re-entered, and the class object is bound to the name used in the class definition (ClassName in the example above).\n",
    "\n",
    "**Class Objects**\n",
    "\n",
    "- Class objects support two kinds of operations: `attribute references` and `instantiation`\n",
    "- Attribute referencing uses the usual notation `obj.name` to reference the attribute name of object `obj`\n",
    "- `myclass.i, myclass.f, and myclass.__doc__` are references to the class attributes `i, f, and __doc__`\n",
    "\n",
    "**Instantiation**\n",
    "\n",
    "- Class instantiation (via constructor) uses function notation and initially creates an empty object, assigning it a name\n",
    "- If the class has a function named `__init__()`, it is called upon instantiation and can establish a specific initial state\n",
    "\n",
    "**Namespace**\n",
    "\n",
    "- A class object has its own namespace, which can be accessed using `__dict__`\n",
    "- Instance objects also have their own namespaces, containing values of instance attributes\n",
    "\n",
    "**Methods**\n",
    "\n",
    "- Besides data attributes, instances can have method attributes.\n",
    "- Methods can change the state of the object\n",
    "- In method definition, the first attribute represents the class. It's convention to name it self\n",
    "- `Note:` Data attributes override method attributes with the same name.\n",
    "- It's not necessary for the function definition to occur inside the class definition. Assigning a function object to a local variable within the class is also permissible\n",
    "- Using `MethodType` from the `types` module, one can also bind a method to an instance afterward\n",
    "\n",
    "**Class Attributes and Instance Attributes**\n",
    "\n",
    "- Instance attributes refer only to the respective instance and can vary between instances\n",
    "- In contrast, class attributes are identical for all instances of the class.\n",
    "- In the following example, `firstname, surname, teaching, university, location, check_lecture_contigent, check_titel, and abbreviation` are instance attributes, while `max_num_lectures`, `total_number_profs`, and `max_num_sws` are class attributes\n",
    "    Attribute/method name - `Public` attributes/methods without leading underscores are readable and writable both inside a class and externally.\n",
    "    _attribute/_methodname - `Protected` attributes/methods can be read and written externally, but the developer clarifies that these members should not be used. `Protected` attributes/methods are particularly important in inheritance\n",
    "    __attribute/__methodname - `Private` attributes/methods are not visible or usable from outside\n",
    "\n",
    "**Class Methods**\n",
    "\n",
    "- There are methods bound to instances (`self`)\n",
    "- It's also possible to define methods bound to class objects (`cls`)\n",
    "- These methods cannot modify instance variables. To do so, decorate the method with `@classmethod`\n",
    "- They can be called using the class name or an instance\n",
    "\n",
    "**Static Methods**\n",
    "\n",
    "- In addition to class-bound methods and instance-bound methods, there's a possibility to define static methods that are bound neither to the class nor to an instance\n",
    "- This is achieved by decorating the function with `@staticmethod`\n",
    "- The method can be called via an instance or the class.\n",
    "\n",
    "**Data Encapsulation (Getter and Setter Methods)**\n",
    "\n",
    "- Data encapsulation involves protecting data or attributes from direct access from outside a class\n",
    "- Access to the data or attributes is usually through appropriate methods, representing invariant interfaces for class usage\n",
    "\n",
    "**Properties**\n",
    "\n",
    "- With so-called `Properties`, `Python` offers a language construct that allows easier read and write access to `private` attributes\n",
    "- For the user, it appears as if they are using a `public` attribute\n",
    "- Properties can also be implemented syntactically using decorators\n",
    "- In our case, we name the getter and setter methods, for example, \"firstname\" instead of `get_firstname` or `set_firstname`\n",
    "- Additionally, we decorate the getter method with `@property` and the setter method with `@firstname.setter`. Then, the call proceeds analogously to using `Properties` or a public attribute\n",
    "\n",
    "**`str` Method**\n",
    "\n",
    "- When applying the `print` function to an object of type Professor, we get the following output (see below)\n",
    "- Internally, print simply called `str(p)`. The output of `str(p)` can be changed by implementing the `__str__` method in the class"
   ]
  },
  {
   "cell_type": "code",
   "execution_count": 70,
   "metadata": {},
   "outputs": [
    {
     "name": "stdout",
     "output_type": "stream",
     "text": [
      "The overall number of OTH-AW professors: 1\n",
      "The overall number of OTH-AW professors: 2\n",
      "\n",
      "--- Public Attribut ---\n",
      "Amberg\n",
      "Weiden\n",
      "\n",
      "--- Getter und Setter Methods ---\n",
      "Bergler\n",
      "Deep Learning\n",
      "\n",
      "--- Class Atrribute ---\n",
      "5\n",
      "5\n",
      "\n",
      "--- Call of a Method via the Class itself ---\n",
      "<function Professor.get_surname at 0x7f788dc7cf70>\n",
      "\n",
      "--- Doc-String of a Class ---\n",
      "Class to administrate general information about professors\n",
      "\n",
      "--- Param Class-Dict ---\n",
      "{'__module__': '__main__', '__doc__': 'Class to administrate general information about professors', 'max_num_lectures': 5, 'total_number_profs': 2, 'max_num_sws': 18, '__init__': <function Professor.__init__ at 0x7f788dc7dbd0>, '_Professor__prof_abbreviation': <function Professor.__prof_abbreviation at 0x7f788dc7d5a0>, '__str__': <function Professor.__str__ at 0x7f788dc7d000>, 'get_firstname': <function Professor.get_firstname at 0x7f788dc7c670>, 'get_surname': <function Professor.get_surname at 0x7f788dc7cf70>, 'get_teaching': <function Professor.get_teaching at 0x7f788dc7dcf0>, 'set_firstname': <function Professor.set_firstname at 0x7f788dc7cca0>, 'set_surname': <function Professor.set_surname at 0x7f788dc7d7e0>, 'set_teaching': <function Professor.set_teaching at 0x7f788dc180d0>, 'counter': <classmethod(<function Professor.counter at 0x7f788dc19090>)>, 'get_num_sws': <staticmethod(<function Professor.get_num_sws at 0x7f788dc1b9a0>)>, 'firstname': <property object at 0x7f788dc64e00>, '__dict__': <attribute '__dict__' of 'Professor' objects>, '__weakref__': <attribute '__weakref__' of 'Professor' objects>}\n",
      "\n",
      "--- Param Object-Dict ---\n",
      "{'_Professor__firstname': 'Christian', '_Professor__surname': 'Bergler', '_Professor__teaching': 'Deep Learning', 'university': False, 'location': 'Amberg', 'check_lecture_contingent': <function lecture_volume_fulfilled at 0x7f788dc1b760>, 'check_titel': None, 'abbreviation': 'ChBe'}\n",
      "\n",
      "--- Object Set & Get ---\n",
      "Dr. Christian\n",
      "\n",
      "--- Public Object Attribut given to a Method ---\n",
      "You do 1 lecture(s) too much!\n",
      "ChBe\n",
      "MaBe\n",
      "\n",
      "--- Post-Assignment of a Method to a Public Attribute using MethodType ---\n",
      "Prof. Dr.\n",
      "\n",
      "--- Class- versus Instance-based Attribute Assignment ---\n",
      "2\n",
      "2\n",
      "10\n",
      "2\n",
      "18\n",
      "18\n",
      "18\n",
      "18\n",
      "\n",
      "--- Change of Class Method ---\n",
      "The overall number of OTH-AW professors: 3\n",
      "3\n",
      "10\n",
      "\n",
      "--- Change of a Public Attribut ---\n",
      "Dr. Christian\n",
      "Chris\n",
      "\n",
      "--- Object Instantiation ---\n",
      "The overall number of OTH-AW professors: 4\n",
      "Fabian Brunner\n"
     ]
    }
   ],
   "source": [
    "#Class name and definition\n",
    "class Professor:\n",
    "    \"\"\"Class to administrate general information about professors\"\"\"\n",
    "    \n",
    "    #Class attributes/variables (equal for all instances in this class)\n",
    "    max_num_lectures = 5\n",
    "    total_number_profs = 0\n",
    "    max_num_sws = 18\n",
    "\n",
    "    #Constructor, in order to create an object instnance\n",
    "    def __init__(self, firstname, surname, teaching, university=False, location=\"Amberg\"):\n",
    "        #Instnance-attribute/variable which are different for every instance of a class)\n",
    "        #Visibility: \n",
    "        #__ = double underscore - private attributes/methods, not visible from outside\n",
    "        #_ = single underscore - protected attributes/methods are visible from outside, however the underscore indicates that the attribute/method are only intended for the usage within the class \n",
    "        # no underscore = public attributes/methods without leading underscore are readable and writeable inside but also outside of a class\n",
    "        self.__firstname = firstname\n",
    "        self.__surname = surname\n",
    "        self.__teaching = teaching\n",
    "        \n",
    "        #Instance-attribute/variable (visible from outside)\n",
    "        self.university = university\n",
    "        self.location = location\n",
    "        \n",
    "        #Assignement of functions/methods\n",
    "        self.check_lecture_contingent = lecture_volume_fulfilled\n",
    "        self.check_titel = None\n",
    "\n",
    "        self.abbreviation = self.__prof_abbreviation(self.__firstname, self.__surname)\n",
    "\n",
    "        Professor.counter()\n",
    "\n",
    "    #not visible from outside\n",
    "    def __prof_abbreviation(self, firstname, surname):\n",
    "        return firstname[0:2]+surname[0:2]\n",
    "\n",
    "    #overwritting of the str-function/method\n",
    "    def __str__(self):\n",
    "        return self.__firstname + \" \" + self.__surname\n",
    "    \n",
    "    #getter\n",
    "    def get_firstname(self):\n",
    "        return self.__firstname\n",
    "\n",
    "    def get_surname(self):\n",
    "        return self.__surname\n",
    "\n",
    "    def get_teaching(self):\n",
    "        return self.__teaching\n",
    "    \n",
    "    #setter\n",
    "    def set_firstname(self, firstname):\n",
    "        self.__firstname = firstname\n",
    "\n",
    "    def set_surname(self, surname):\n",
    "        self.__surname = surname\n",
    "\n",
    "    def set_teaching(self, surname):\n",
    "        self.__teaching = teaching\n",
    "         \n",
    "    #Requires cls (class), compared to self (instance)\n",
    "    @classmethod\n",
    "    def counter(cls):\n",
    "        cls.total_number_profs+=1\n",
    "        print(\"The overall number of OTH-AW professors: \" + str(cls.total_number_profs))\n",
    "\n",
    "    @staticmethod\n",
    "    def get_num_sws():\n",
    "        return Professor.max_num_sws\n",
    "\n",
    "    #Property\n",
    "    firstname = property(fget=get_firstname, fset=set_firstname)\n",
    "    \n",
    "def get_titel_prof(self, promotion):\n",
    "    if type(promotion) is bool:\n",
    "        if promotion == True:\n",
    "            return \"Prof. Dr.\"\n",
    "        else:\n",
    "            return \"Prof.\"\n",
    "    else:\n",
    "        print(str(type(promotion)) + \" is not a valid parameter, only boolean is allowed!\")\n",
    "        return \"Try again!\"\n",
    "\n",
    "def lecture_volume_fulfilled(num_lectures_semester):\n",
    "    remaining_lectures = Professor.max_num_lectures - num_lectures_semester\n",
    "    if remaining_lectures <= 0:\n",
    "        return \"You do \" + str(-remaining_lectures) + \" lecture(s) too much!\"\n",
    "    else:\n",
    "        return \"You do \" + str(remaining_lectures) + \" lecture(s) too less!\"\n",
    "        \n",
    "#----------------------------------\n",
    "#------------TESTING---------------\n",
    "#----------------------------------\n",
    "\n",
    "#Instance of a class\n",
    "Bergler = Professor(\"Christian\", \"Bergler\", \"Deep Learning\")\n",
    "Beham = Professor(\"Manfred\", \"Beham\", \"Electrical- and Informationtechnology\", False, \"Weiden\")\n",
    "\n",
    "print()\n",
    "print(\"--- Public Attribut ---\")\n",
    "print(Bergler.location)\n",
    "print(Beham.location)\n",
    "print()\n",
    "#print(Bergler.__surname) - leads to an error, since the attribute is not accessible from outside and it is mandatory to call it via the get-function\n",
    "\n",
    "print(\"--- Getter und Setter Methods ---\")#\n",
    "print(Bergler.get_surname())\n",
    "print(Bergler.get_teaching())\n",
    "print()\n",
    "\n",
    "print(\"--- Class Atrribute ---\")\n",
    "print(Bergler.max_num_lectures)\n",
    "print(Beham.max_num_lectures)\n",
    "print()\n",
    "\n",
    "print(\"--- Call of a Method via the Class itself ---\")\n",
    "print(Professor.get_surname)\n",
    "print()\n",
    "\n",
    "print(\"--- Doc-String of a Class ---\")\n",
    "print(Professor.__doc__)\n",
    "print()\n",
    "\n",
    "print(\"--- Param Class-Dict ---\")\n",
    "print(Professor.__dict__)\n",
    "print()\n",
    "\n",
    "print(\"--- Param Object-Dict ---\")\n",
    "print(Bergler.__dict__)\n",
    "print()\n",
    "\n",
    "print(\"--- Object Set & Get ---\")\n",
    "Bergler.set_firstname(\"Dr. Christian\")\n",
    "print(Bergler.get_firstname())\n",
    "print()\n",
    "\n",
    "print(\"--- Public Object Attribut given to a Method ---\")\n",
    "print(Bergler.check_lecture_contingent(6))\n",
    "print(Bergler.abbreviation)\n",
    "print(Beham.abbreviation)\n",
    "print()\n",
    "\n",
    "print(\"--- Post-Assignment of a Method to a Public Attribute using MethodType ---\")\n",
    "from types import MethodType\n",
    "Bergler.check_titel = MethodType(get_titel_prof, Bergler)\n",
    "print(Bergler.check_titel(promotion=True))\n",
    "print()\n",
    "\n",
    "print(\"--- Class- versus Instance-based Attribute Assignment ---\")\n",
    "print(Professor.total_number_profs)\n",
    "Bergler.total_number_profs = 10\n",
    "print(Professor.total_number_profs)\n",
    "print(Bergler.total_number_profs)\n",
    "print(Beham.total_number_profs)\n",
    "\n",
    "print(Professor.get_num_sws())\n",
    "print(Beham.get_num_sws())\n",
    "Bergler.max_num_sws = 12\n",
    "print(Bergler.get_num_sws())\n",
    "print(Beham.get_num_sws())\n",
    "print()\n",
    "\n",
    "print(\"--- Change of Class Method ---\")\n",
    "Professor.counter()\n",
    "print(Professor.total_number_profs)\n",
    "print(Bergler.total_number_profs)\n",
    "print()\n",
    "\n",
    "print(\"--- Change of a Public Attribut ---\")\n",
    "print(Bergler.firstname)\n",
    "Bergler.firstname = \"Chris\"\n",
    "print(Bergler.firstname)\n",
    "print()\n",
    "\n",
    "print(\"--- Object Instantiation ---\")\n",
    "Brunner = Professor(\"Fabian\", \"Brunner\", \"Data Analytics & Engineering\", False, \"Amberg\")\n",
    "print(Brunner)"
   ]
  },
  {
   "cell_type": "markdown",
   "metadata": {},
   "source": [
    "### Inheritance\n",
    "\n",
    "- When creating a class object, a class remembers its base classes. If a requested attribute is not found within the class, the search continues in the base class (recursively)\n",
    "- When resolving method references, a method is searched along the inheritance chain (upwards), and the method reference is valid if a function object provides the method.\n",
    "- Derived classes can override methods of their base classes\n",
    "- When creating `class B`, the `__init__` method of the base `class A` is executed if `B` does not provide/implement its own `__init__` method.\n",
    "- Methods of the base class can be overloaded through the mechanism of inheritance (see `__str__` as an example, same method header), to model particular class-specific characteristics\n",
    "\n",
    "**Method Overloading (Polymorphism)**\n",
    "\n",
    "- Methods and functions in Python already have implicit type polymorphism due to `Python's` dynamic typing concept (overloading methods with different data types, as in C++/Java/etc., is not necessary)\n",
    "- Overloading methods (`polymorphism`) by changing the number of parameters (as in `C++/Java/etc.`) is not directly possible in `Python`, but default parameters can be used, strictly speaking, only having one function definition, hence not technically polymorphism \n",
    "- In general, polymorphisms in parameter count in `Python` can be defined using a `*` argument for any number of parameters\n",
    "\n",
    "**Operator Overloading**\n",
    "\n",
    "- Python allows overloading operators for custom classes\n",
    "- To do this, the following methods, such as `__add__`, need to be overridden\n",
    "- For different operators, there are respective \"magic\" methods that are called when the operator is applied to a class. These must be implemented to overload the respective operator\n",
    "\n",
    "\n",
    "| Operator    | Method                                  |\n",
    "| :-----------| :---------------------------------------|\n",
    "| +           | object.__ add __(self, other)           | \n",
    "| - \t      | object.__ sub __(self, other)           | \n",
    "| * \t      | object.__ mul __(self, other)           |\n",
    "| // \t      | object.__ floordiv __(self, other)      |\n",
    "| / \t      | object.__ truediv __(self, other)       |\n",
    "| % \t      | object.__ mod __(self, other)           | \n",
    "| ** \t      | object.__ pow __(self, other[, modulo]) |\n",
    "| <<\t      | object.__ lshift __(self, other)        |\n",
    "| >> \t      | object.__ rshift __(self, other)        | \n",
    "| & \t      | object.__ and __(self, other)           | \n",
    "| ^ \t      | object.__ xor __(self, other)           | \n",
    "| &#124;      | object.__ or __(self, other)            | "
   ]
  },
  {
   "cell_type": "code",
   "execution_count": 71,
   "metadata": {},
   "outputs": [
    {
     "name": "stdout",
     "output_type": "stream",
     "text": [
      "The overall number of OTH-AW professors: 5\n",
      "The overall number of OTH-AW professors: 6\n",
      "The overall number of OTH-AW professors: 7\n",
      "The overall number of OTH-AW professors: 8\n"
     ]
    }
   ],
   "source": [
    "class FacultyProfessor(Professor):\n",
    "        \n",
    "    def __init__(self, firstname, surname, teaching, university, location, faculty=\"TBD\", fachbereich=\"TBD\"):\n",
    "        super().__init__(firstname, surname, teaching, university, location)\n",
    "        self.__faculty = faculty\n",
    "        self.__fachbereich = fachbereich\n",
    "\n",
    "    def __str__(self):\n",
    "        return self.get_firstname() + \" \" + self.get_surname() + \", \" + self.__faculty + \", \" + self.__fachbereich\n",
    "\n",
    "    #overloading\n",
    "    def get_multiple_profs_teaching(*professoren):\n",
    "        all_teaching = \"\"\n",
    "        for prof in professoren:\n",
    "            all_teaching += prof.get_teaching() + \", \"\n",
    "        return all_teaching[0:-2].strip()\n",
    "\n",
    "    #overloading operator\n",
    "    def __add__(self, other):\n",
    "        return self.get_firstname() + \" \" + self.get_surname() + \" and \" + other.get_firstname() + \" \" + other.get_surname()\n",
    "        \n",
    "Levi = FacultyProfessor(\"Patrick\", \"Levi\", \"Machine Learning for Industrial Applications\", False, \"Amberg\", \"EMI\", \"KI\")\n",
    "Pirkl = FacultyProfessor(\"Gerald\", \"Pirkl\", \"Embedded Intelligence\", False, \"Amberg\") \n",
    "Nöth = FacultyProfessor(\"Elmar\", \"Nöth\", \"Speech Processing\", True, \"Erlangen\", \"Computer Science 5\", \"PRL\") \n",
    "Wiehl = Professor(\"Michael\", \"Wiehl\", \"Cyber-Phisical Systems\", False, \"Amberg\")"
   ]
  },
  {
   "cell_type": "code",
   "execution_count": 72,
   "metadata": {},
   "outputs": [
    {
     "name": "stdout",
     "output_type": "stream",
     "text": [
      "Embedded Intelligence\n",
      "Patrick Levi is a University Prof. - right? False\n",
      "Elmar Nöth is a University Prof. - right? True\n",
      "\n",
      "--- Overwritting of the __str__ method, which changes the functionality in comparsion to the one within the professor class ---\n",
      "Patrick Levi, EMI, KI\n",
      "Gerald Pirkl, TBD, TBD\n",
      "Michael Wiehl\n",
      "\n",
      "--- Function call using a variable number of parameters (concept of overloading) ---\n",
      "Machine Learning for Industrial Applications, Embedded Intelligence, Cyber-Phisical Systems, Deep Learning, Speech Processing\n",
      "\n",
      "--- Overwritting the __add__ function in order to um den + Operator zu überschreiben (Polymorph) ---\n",
      "Patrick Levi and Chris Bergler\n",
      "\n"
     ]
    }
   ],
   "source": [
    "print(Pirkl.get_teaching())\n",
    "\n",
    "print(Levi.firstname + \" \" + Levi.get_surname() + \" is a University Prof. - right? \" + str(Levi.university))\n",
    "print(Nöth.firstname + \" \" + Nöth.get_surname() + \" is a University Prof. - right? \" + str(Nöth.university))\n",
    "print()\n",
    "\n",
    "print(\"--- Overwritting of the __str__ method, which changes the functionality in comparsion to the one within the professor class ---\")\n",
    "print(Levi)\n",
    "print(Pirkl)\n",
    "print(Wiehl)\n",
    "print()\n",
    "\n",
    "print(\"--- Function call using a variable number of parameters (concept of overloading) ---\")\n",
    "print(FacultyProfessor.get_multiple_profs_teaching(Levi, Pirkl, Wiehl, Bergler, Nöth))\n",
    "print()\n",
    "\n",
    "print(\"--- Overwritting the __add__ function in order to um den + Operator zu überschreiben (Polymorph) ---\")\n",
    "summation_result = Levi + Bergler\n",
    "print(summation_result)\n",
    "print()"
   ]
  },
  {
   "cell_type": "markdown",
   "metadata": {},
   "source": [
    "## Decorators\n",
    "\n",
    "- A `decorator` in `Python` is any callable object used to modify a function or a class\n",
    "- A reference to the function `func` or the class `C` is passed to the decorator, and it returns a modified function or class\n",
    "- The modified functions or classes typically internally call the original function `func` or the original class `C`"
   ]
  },
  {
   "cell_type": "markdown",
   "metadata": {},
   "source": [
    "### Nested Functions"
   ]
  },
  {
   "cell_type": "code",
   "execution_count": 73,
   "metadata": {},
   "outputs": [
    {
     "name": "stdout",
     "output_type": "stream",
     "text": [
      "Hello, Function f is used!\n",
      "f calls now g!\n",
      "Hello, Function g is used!\n",
      "Done!\n"
     ]
    }
   ],
   "source": [
    "def f():\n",
    "    def g():\n",
    "        print(\"Hello, Function g is used!\")\n",
    "    print(\"Hello, Function f is used!\")\n",
    "    print(\"f calls now g!\")\n",
    "    g()\n",
    "    return \"Done!\"\n",
    "\n",
    "print(f())"
   ]
  },
  {
   "cell_type": "markdown",
   "metadata": {},
   "source": [
    "### Functions as Parameter\n",
    "\n",
    "- Every Parameter of a Function in `Python` is a reference to an object\n",
    "- Functions are objects itself, which allow to use functions, to be more specific - references to functions - as stand-alone arguments in other methods"
   ]
  },
  {
   "cell_type": "code",
   "execution_count": 74,
   "metadata": {},
   "outputs": [
    {
     "name": "stdout",
     "output_type": "stream",
     "text": [
      "2\n",
      "<function linear_func at 0x7f788dc1b2e0>\n",
      "4\n"
     ]
    }
   ],
   "source": [
    "def linear_func(m, x, t):\n",
    "    y = m * x + t\n",
    "    return y\n",
    "\n",
    "y = linear_func(m=1, x=2, t=0)\n",
    "print(y)\n",
    "\n",
    "y = linear_func\n",
    "print(y)\n",
    "\n",
    "result = y(m=2, x=2, t=0)\n",
    "print(result)"
   ]
  },
  {
   "cell_type": "markdown",
   "metadata": {},
   "source": [
    "- We are now able to define a simple decorator\n",
    "- This takes as an argument a function reference to a function named `linear_func` (see above) and returns a function reference to a new function `linear_eq_with_multiplier` that prints text before and after executing `linear_func`\n",
    "- Finally, the function `y_linear_eq` is decorated with our `decorator`\n",
    "\n",
    "**@-Syntax for Decorators**\n",
    "\n",
    "- Decoration in Python is typically done using the `@-syntax`\n",
    "- Note: The `@-syntax` cannot be used for functions written by third parties and imported from a module"
   ]
  },
  {
   "cell_type": "code",
   "execution_count": 75,
   "metadata": {},
   "outputs": [
    {
     "name": "stdout",
     "output_type": "stream",
     "text": [
      "Compute the linear function while considering the multiplier for the slope!\n",
      "Result of the linear function = 9\n"
     ]
    }
   ],
   "source": [
    "def my_dec(any_linear_f):\n",
    "    \n",
    "    def linear_eq_with_multiplier(m, x, t, m_multiplier):\n",
    "        print(\"Compute the linear function while considering the multiplier for the slope!\")\n",
    "        result = any_linear_f(m * m_multiplier, x, t)\n",
    "        print(\"Result of the linear function = \" + str(result))\n",
    "    \n",
    "    return linear_eq_with_multiplier\n",
    "\n",
    "y_linear_eq = my_dec(linear_func)\n",
    "y_linear_eq(2, 1, 3, 3)"
   ]
  },
  {
   "cell_type": "code",
   "execution_count": 76,
   "metadata": {},
   "outputs": [],
   "source": [
    "@my_dec\n",
    "def linear_func(m, x, t):\n",
    "    y = m * x + t\n",
    "    return y"
   ]
  },
  {
   "cell_type": "code",
   "execution_count": 77,
   "metadata": {},
   "outputs": [
    {
     "name": "stdout",
     "output_type": "stream",
     "text": [
      "Compute the linear function while considering the multiplier for the slope!\n",
      "Result of the linear function = 22\n"
     ]
    }
   ],
   "source": [
    "linear_func(2,2,2,5)"
   ]
  },
  {
   "cell_type": "markdown",
   "metadata": {},
   "source": [
    "## Generators and Iterators\n",
    "\n",
    "### Generators\n",
    "\n",
    "- In computer science, a generator refers to code used to control the iteration behavior of a loop\n",
    "- They behave like a function with parameters that, upon invocation, returns a sequence of values that can be iterated over\n",
    "- Unlike, for example, a list, the sequence of values is not generated all at once but rather one value at a time\n",
    "- Thus, a generator is a function that behaves like an iterator\n",
    "- Advantages:\n",
    "    - Saves memory since not all values need to be stored at once\n",
    "    - It allows for immediate iteration without waiting for the entire sequence of values to be generated\n",
    "\n",
    "### Iterators\n",
    "\n",
    "- We have already encountered iterators in for loops (e.g., elements of a list)\n",
    "- Before the loop starts, Python internally calls the `iter` function with the list as an argument. This function returns an object that allows iterating over the elements of the list\n",
    "- The return value of iter() is an object of the list_iterator class\n",
    "- `iter()` calls the `__iter__` method of the `list` class\n",
    "- Additional examples:\n",
    "    - In the last lecture, we already encountered the `zip` object as an iterator\n",
    "    - The `range()` function returns a `range` object, which is an iterable object but not an iterator\n",
    "- After each loop iteration, the `next()` function is applied to the `list` iterator to retrieve the next element\n",
    "- This continues until the supply of list elements is exhausted\n",
    "- Sequential basic types as well as most classes from Python's standard library support iteration\n",
    "- The dictionary data type (`dict`) also supports iteration. In this case, the iteration traverses the keys of the dictionaries"
   ]
  },
  {
   "cell_type": "code",
   "execution_count": 78,
   "metadata": {},
   "outputs": [
    {
     "name": "stdout",
     "output_type": "stream",
     "text": [
      "<class 'list_iterator'>\n",
      "Bergler\n",
      "Brunner\n",
      "Levi\n",
      "Schäfer\n",
      "Pirkl\n"
     ]
    }
   ],
   "source": [
    "profs = [\"Bergler\", \"Brunner\", \"Levi\", \"Schäfer\", \"Pirkl\"]\n",
    "iter_prof = iter(profs)\n",
    "print(type(iter_prof))\n",
    "print(next(iter_prof))\n",
    "print(next(iter_prof))\n",
    "print(next(iter_prof))\n",
    "print(next(iter_prof))\n",
    "print(next(iter_prof))\n",
    "#print(next(iter_prof)) - would lead to an exception, since the number of elements is exhausted"
   ]
  },
  {
   "cell_type": "code",
   "execution_count": 79,
   "metadata": {},
   "outputs": [
    {
     "name": "stdout",
     "output_type": "stream",
     "text": [
      "<class 'dict_keyiterator'>\n",
      "Bergler, Deep Learning\n",
      "Brunner, Data Analytics & Engineering\n",
      "Levi, Machine Learning\n"
     ]
    }
   ],
   "source": [
    "profs_lecture = {\"Bergler\" : \"Deep Learning\", \"Brunner\" : \"Data Analytics & Engineering\", \"Levi\" : \"Machine Learning\"}\n",
    "iter_prof_lec = iter(profs_lecture)\n",
    "print(type(iter_prof_lec))\n",
    "key = next(iter_prof_lec)\n",
    "print(key + \", \" + profs_lecture.get(key))\n",
    "key = next(iter_prof_lec)\n",
    "print(key + \", \" + profs_lecture.get(key))\n",
    "key = next(iter_prof_lec)\n",
    "print(key + \", \" + profs_lecture.get(key))"
   ]
  },
  {
   "cell_type": "markdown",
   "metadata": {},
   "source": [
    "**Generators and How They Work**\n",
    "\n",
    "- One simple way to create iterators is through so-called `Generators` or `Generator Functions`\n",
    "- A generator is invoked like a function. It returns an `Iterator` object as a result, but the code inside the generator is not executed yet\n",
    "- When the returned iterator is used, each time a new iterator object is needed (i.e., when the `next` method is called), the code inside the generator is executed until it encounters a `yield` statement\n",
    "- `yield` acts like a return statement in a function, meaning the value of the expression or object after `yield` is returned. However, the generator is not terminated like a function; instead, it is merely paused, waiting for the next call to continue after the `yield`. Its entire state is saved until the next call\n",
    "- The generator is only terminated when either the function body has been fully executed or the program encounters a `return` statement (without a value)\n",
    "- The following generator sequentially returns the names of the professors\n",
    "- Once \"Pirkl\" is returned, the supply of professors in the list is exhausted, and the generator reaches the end of the function on the next call without encountering a `yield`\n",
    "- The `next` function raises a `StopIteration exception` on the next call, causing the `for` loop over the generated iterator to end"
   ]
  },
  {
   "cell_type": "code",
   "execution_count": 80,
   "metadata": {},
   "outputs": [
    {
     "name": "stdout",
     "output_type": "stream",
     "text": [
      "Bergler\n",
      "Brunner\n",
      "Levi\n",
      "Schäfer\n",
      "Pirkl\n"
     ]
    }
   ],
   "source": [
    "def prof_generator():\n",
    "    profs = [\"Bergler\", \"Brunner\", \"Levi\", \"Schäfer\", \"Pirkl\"]\n",
    "    for prof in profs:\n",
    "        yield prof\n",
    "\n",
    "for prof in prof_generator():\n",
    "    print(prof)"
   ]
  },
  {
   "cell_type": "markdown",
   "metadata": {},
   "source": [
    "## Lambda Functions, Map, and Filter\n",
    "\n",
    "### Lambda Functions\n",
    "\n",
    "- Anonymous functions or `lambda` functions are functions that have no name\n",
    "- Such functions can only be referenced through references\n",
    "- They are defined using the `lambda` operator\n",
    "- `lambda` functions can have any number of parameters, execute an expression, and return the value of that expression as a result\n",
    "- Anonymous functions are particularly useful when calling functions that involve other functions as arguments"
   ]
  },
  {
   "cell_type": "code",
   "execution_count": 81,
   "metadata": {},
   "outputs": [
    {
     "data": {
      "text/plain": [
       "<function __main__.<lambda>(x)>"
      ]
     },
     "execution_count": 81,
     "metadata": {},
     "output_type": "execute_result"
    }
   ],
   "source": [
    "lambda x : x + 10"
   ]
  },
  {
   "cell_type": "code",
   "execution_count": 82,
   "metadata": {},
   "outputs": [
    {
     "data": {
      "text/plain": [
       "13"
      ]
     },
     "execution_count": 82,
     "metadata": {},
     "output_type": "execute_result"
    }
   ],
   "source": [
    "(lambda x : x + 10)(3)"
   ]
  },
  {
   "cell_type": "code",
   "execution_count": 83,
   "metadata": {},
   "outputs": [
    {
     "name": "stdout",
     "output_type": "stream",
     "text": [
      "[('Schäfer', 0), ('Levi', 1), ('Bergler', 2)]\n"
     ]
    }
   ],
   "source": [
    "profs = [(\"Bergler\", 2), (\"Levi\", 1), (\"Schäfer\", 0)]\n",
    "profs.sort(key = lambda x : x[1])\n",
    "print(profs)"
   ]
  },
  {
   "cell_type": "markdown",
   "metadata": {},
   "source": [
    "### Map\n",
    "\n",
    "- Using `map`, one can apply a function to a sequence (e.g., `list`, `tuple`) and map it onto a `map` object, which is essentially an iterator"
   ]
  },
  {
   "cell_type": "code",
   "execution_count": 84,
   "metadata": {},
   "outputs": [
    {
     "name": "stdout",
     "output_type": "stream",
     "text": [
      "7\n",
      "7\n",
      "4\n",
      "7\n",
      "5\n"
     ]
    }
   ],
   "source": [
    "profs = [\"Bergler\", \"Brunner\", \"Levi\", \"Schäfer\", \"Pirkl\"]\n",
    "name_tag_length = map(lambda x : len(x), profs) \n",
    "for tag in name_tag_length:\n",
    "    print(tag)"
   ]
  },
  {
   "cell_type": "markdown",
   "metadata": {},
   "source": [
    "### Filter\n",
    "\n",
    "- With the help of `filter`, one can extract elements from an iterable object by applying a function that returns a boolean value"
   ]
  },
  {
   "cell_type": "code",
   "execution_count": 85,
   "metadata": {},
   "outputs": [
    {
     "data": {
      "text/plain": [
       "['Levi']"
      ]
     },
     "execution_count": 85,
     "metadata": {},
     "output_type": "execute_result"
    }
   ],
   "source": [
    "profs = [\"Bergler\", \"Brunner\", \"Levi\", \"Schäfer\", \"Pirkl\"]\n",
    "short_name_tag_length = filter(lambda x : len(x) <= 4, profs) \n",
    "list(short_name_tag_length)"
   ]
  },
  {
   "cell_type": "markdown",
   "metadata": {},
   "source": [
    "## Functions with Arbitrary Number of Arguments\n",
    "\n",
    "### Variable Number of Parameters\n",
    "\n",
    "- There are often cases where the number of parameters required when calling a function is not known beforehand\n",
    "- To define functions that can accept an arbitrary number of parameters, the `*` operator is used\n",
    "- It can be observed that the arguments passed to `list_all` during the call are collected in a tuple. The arguments are packed using the `*` operator"
   ]
  },
  {
   "cell_type": "code",
   "execution_count": 86,
   "metadata": {},
   "outputs": [
    {
     "name": "stdout",
     "output_type": "stream",
     "text": [
      "('Bergler', 'Schäfer', 'Brunner', 'Wiehl', 'Pirkl')\n",
      "('Schäfer', 'Levi')\n"
     ]
    }
   ],
   "source": [
    "def list_all(*profs):\n",
    "    print(profs)\n",
    "\n",
    "list_all(\"Bergler\", \"Schäfer\", \"Brunner\", \"Wiehl\", \"Pirkl\")\n",
    "\n",
    "list_all(\"Schäfer\", \"Levi\")"
   ]
  },
  {
   "cell_type": "markdown",
   "metadata": {},
   "source": [
    "- It's also possible to combine a fixed number of positional parameters with an arbitrary number of additional parameters\n",
    "- However, it's important that the positional parameters always come first\n",
    "- In the following example, a positional parameter `initial_val` is expected, followed by any number of additional parameters\n",
    "- This approach helps prevent the function from being called without any parameters, which could result in a division by zero"
   ]
  },
  {
   "cell_type": "code",
   "execution_count": 87,
   "metadata": {},
   "outputs": [
    {
     "name": "stdout",
     "output_type": "stream",
     "text": [
      "4.0\n",
      "3.5\n"
     ]
    }
   ],
   "source": [
    "def arithmetic_mean(initial_val, *other_vals):\n",
    "    return (initial_val + sum(other_vals))/(1+len(other_vals))\n",
    "\n",
    "print(arithmetic_mean(4))\n",
    "\n",
    "print(arithmetic_mean(1,2,3,4,5,6))\n"
   ]
  },
  {
   "cell_type": "markdown",
   "metadata": {},
   "source": [
    "### Function Calls with `*`\n",
    "\n",
    "- An asterisk `*` can also appear in a function call. In this case, its semantics are inverse to its usage in function definition\n",
    "- This means the elements of a list or tuple are unpacked\n",
    "- There's also an analogous mechanism for an arbitrary number of keyword parameters. For this, a double asterisk notation has been introduced"
   ]
  },
  {
   "cell_type": "code",
   "execution_count": 88,
   "metadata": {},
   "outputs": [
    {
     "name": "stdout",
     "output_type": "stream",
     "text": [
      "3.5\n",
      "3.5\n",
      "{'firstname': 'Christian', 'surname': 'Bergler', 'teaching': 'Deep Learning', 'location': 'Amberg'}\n"
     ]
    }
   ],
   "source": [
    "print(arithmetic_mean(1,2,3,4,5,6))\n",
    "dice = [i for i in range(1,7)]\n",
    "print(arithmetic_mean(*dice))\n",
    "\n",
    "def any_fun_params(**kwargs):\n",
    "    print(kwargs)\n",
    "\n",
    "any_fun_params(firstname=\"Christian\", surname=\"Bergler\", teaching=\"Deep Learning\", location=\"Amberg\")"
   ]
  },
  {
   "cell_type": "markdown",
   "metadata": {},
   "source": [
    "## Reading and Writing Files\n",
    "\n",
    "### Reading from a File\n",
    "\n",
    "- The `open` function creates a file object and returns a reference to that object. It expects a filename as its argument and optionally a mode\n",
    "- In the following example, you `open` a text file of your choice for reading (`r = read` mode is set)\n",
    "- Using a `for` loop, you can iterate over the lines of the file\n",
    "- The `close` method is used to close the file again"
   ]
  },
  {
   "cell_type": "code",
   "execution_count": 89,
   "metadata": {},
   "outputs": [
    {
     "name": "stdout",
     "output_type": "stream",
     "text": [
      "Artificial intelligence, often abbreviated as AI, is a field of computer science focused on creating systems that can perform tasks that typically require human intelligence. These tasks include learning, reasoning, problem-solving, perception, and language understanding. AI technologies are powering a wide range of applications, from virtual assistants like Siri and Alexa to self-driving cars, medical diagnosis systems, and recommendation engines. With advancements in machine learning, neural networks, and deep learning, AI continues to revolutionize industries and reshape the way we live and work. As AI capabilities grow, ethical considerations around privacy, bias, and transparency become increasingly important topics of discussion.\n"
     ]
    }
   ],
   "source": [
    "input_path = \"input-text.txt\"\n",
    "file_in = open(input_path, \"r\")\n",
    "for textline in file_in:\n",
    "    print(textline.strip())\n",
    "file_in.close()"
   ]
  },
  {
   "cell_type": "markdown",
   "metadata": {},
   "source": [
    "### Read and Readlines\n",
    "\n",
    "- Up to now, we have been reading files line by line using a loop\n",
    "- Alternatively, one can also store the entire content into a data structure using `read()` and `readlines()`\n",
    "- The `read()` method generates a string from the file content\n",
    "- The `readlines()` method generates a list containing the lines of the file as entries"
   ]
  },
  {
   "cell_type": "code",
   "execution_count": 90,
   "metadata": {},
   "outputs": [
    {
     "name": "stdout",
     "output_type": "stream",
     "text": [
      "Artificial intelligence, often abbreviated as AI, is a field of computer science focused on creating systems that can perform tasks that typically require human intelligence. These tasks include learning, reasoning, problem-solving, perception, and language understanding. AI technologies are powering a wide range of applications, from virtual assistants like Siri and Alexa to self-driving cars, medical diagnosis systems, and recommendation engines. With advancements in machine learning, neural networks, and deep learning, AI continues to revolutionize industries and reshape the way we live and work. As AI capabilities grow, ethical considerations around privacy, bias, and transparency become increasingly important topics of discussion.\n",
      "\n",
      "['Artificial intelligence, often abbreviated as AI, is a field of computer science focused on creating systems that can perform tasks that typically require human intelligence. These tasks include learning, reasoning, problem-solving, perception, and language understanding. AI technologies are powering a wide range of applications, from virtual assistants like Siri and Alexa to self-driving cars, medical diagnosis systems, and recommendation engines. With advancements in machine learning, neural networks, and deep learning, AI continues to revolutionize industries and reshape the way we live and work. As AI capabilities grow, ethical considerations around privacy, bias, and transparency become increasingly important topics of discussion.']\n"
     ]
    }
   ],
   "source": [
    "file_in = open(input_path, \"r\")\n",
    "whole_text_read = file_in.read()\n",
    "print(whole_text_read)\n",
    "file_in.close()\n",
    "\n",
    "print()\n",
    "\n",
    "file_in = open(input_path, \"r\")\n",
    "whole_text_readline = file_in.readlines()\n",
    "print(whole_text_readline)\n",
    "file_in.close()"
   ]
  },
  {
   "cell_type": "markdown",
   "metadata": {},
   "source": [
    "### Writing to a File\n",
    "\n",
    "- To write to a file, one uses the mode `w = write` instead of `r = read`\n",
    "- Data is written using the `write` method of the file object"
   ]
  },
  {
   "cell_type": "code",
   "execution_count": 91,
   "metadata": {},
   "outputs": [],
   "source": [
    "output_path = \"output-text.txt\"\n",
    "file_out = open(output_path, \"w\")\n",
    "profs_lecture = {\"Bergler\" : \"Deep Learning\", \"Brunner\" : \"Data Analytics & Engineering\", \"Levi\" : \"Machine Learning\"}\n",
    "for key in profs_lecture:\n",
    "    file_out.write(key + \" Lectures: \" + profs_lecture.get(key)+\"\\n\")    \n",
    "file_out.close()"
   ]
  },
  {
   "cell_type": "markdown",
   "metadata": {},
   "source": [
    "### With Statement\n",
    "\n",
    "- File handling with `open()` and `close()` works, but it's not recommended to use it in this form\n",
    "- Instead, the `with` statement should be used\n",
    "- This ensures that the file is automatically closed in case of an exception or at the end of processing. An explicit `close()` is no longer necessary"
   ]
  },
  {
   "cell_type": "code",
   "execution_count": 92,
   "metadata": {},
   "outputs": [
    {
     "name": "stdout",
     "output_type": "stream",
     "text": [
      "Artificial intelligence, often abbreviated as AI, is a field of computer science focused on creating systems that can perform tasks that typically require human intelligence. These tasks include learning, reasoning, problem-solving, perception, and language understanding. AI technologies are powering a wide range of applications, from virtual assistants like Siri and Alexa to self-driving cars, medical diagnosis systems, and recommendation engines. With advancements in machine learning, neural networks, and deep learning, AI continues to revolutionize industries and reshape the way we live and work. As AI capabilities grow, ethical considerations around privacy, bias, and transparency become increasingly important topics of discussion.\n"
     ]
    }
   ],
   "source": [
    "with (open(input_path, \"r\")) as file_in:\n",
    "    whole_text = file_in.read()\n",
    "\n",
    "print(whole_text)"
   ]
  },
  {
   "cell_type": "markdown",
   "metadata": {},
   "source": [
    "## Pickle\n",
    "\n",
    "**Saving Data with `pickle.dump()`**\n",
    "\n",
    "- Using the `pickle` module, data can be persisted beyond the end of a program\n",
    "- The `dump()` method allows objects to be stored in a serialized form, making them available for deserialization later\n",
    "- Syntax: `dump(obj, file, protocol=None, *, fix_imports=True)`\n",
    "\n",
    "| Argument    | Meaning                                    |\n",
    "| :-----------| :------------------------------------------|\n",
    "| obj         | Objekt, which should be serialized         | \n",
    "| file \t      | Data object which is used for pickeling    | \n",
    "| protocol    | Type of output (e.g. readable format, binary format, etc.) |\n",
    "| fix_imports | If True and protocol < 3, Pickle attempts to set the new Python 3 names to the old module names, allowing the pickle data stream to be readable by Python 2 as well |"
   ]
  },
  {
   "cell_type": "markdown",
   "metadata": {},
   "source": [
    "**Saving and Restoring Data with pickle**\n",
    "\n",
    "- With `dump()`, multiple objects can be stored in the same file.\n",
    "- The question arises, what kind of data can actually be pickled. Essentially, almost anything:\n",
    "    - All Python built-in types (e.g. `Booleans`, `Integers`, `Floats`, `Strings`)\n",
    "    - `Lists` and `Tuples`, `Sets`, and `Dictionaries`\n",
    "    - `Functions`, `Classes`, and `Instances`\n",
    "    - File objects cannot be pickled"
   ]
  },
  {
   "cell_type": "code",
   "execution_count": 93,
   "metadata": {},
   "outputs": [
    {
     "name": "stdout",
     "output_type": "stream",
     "text": [
      "['Bergler', 'Brunner', 'Levi', 'Schäfer', 'Pirkl']\n"
     ]
    }
   ],
   "source": [
    "import pickle\n",
    "\n",
    "profs = [\"Bergler\", \"Brunner\", \"Levi\", \"Schäfer\", \"Pirkl\"]\n",
    "\n",
    "output_pckl_path = \"prof.pkl\"\n",
    "\n",
    "with (open(output_pckl_path, \"wb\")) as fp:\n",
    "    pickle.dump(profs, fp)\n",
    "\n",
    "with (open(output_pckl_path, \"rb\")) as fp:\n",
    "    profs = pickle.load(fp)\n",
    "\n",
    "print(profs)"
   ]
  }
 ],
 "metadata": {
  "anaconda-cloud": {},
  "kernelspec": {
   "display_name": "venv",
   "language": "python",
   "name": "venv"
  },
  "language_info": {
   "codemirror_mode": {
    "name": "ipython",
    "version": 3
   },
   "file_extension": ".py",
   "mimetype": "text/x-python",
   "name": "python",
   "nbconvert_exporter": "python",
   "pygments_lexer": "ipython3",
   "version": "3.10.12"
  }
 },
 "nbformat": 4,
 "nbformat_minor": 4
}
